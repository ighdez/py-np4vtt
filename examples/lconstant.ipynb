{
 "cells": [
  {
   "cell_type": "markdown",
   "metadata": {},
   "source": [
    "# Using NP4VTT: Local constant model\n",
    "\n",
    "In this notebook, we show how to use a local constant model to estimate the distribution of the Value of Travel Time (VTT) from the Norway data."
   ]
  },
  {
   "cell_type": "markdown",
   "metadata": {},
   "source": [
    "## Step 1: Load modules and data, and create arrays\n",
    "\n",
    "We first import the NP4VTT modules for creating the arrays, the local constant model, and Pandas to load the dataset:"
   ]
  },
  {
   "cell_type": "code",
   "execution_count": 16,
   "metadata": {},
   "outputs": [],
   "source": [
    "import sys\n",
    "sys.path.append('../src')"
   ]
  },
  {
   "cell_type": "code",
   "execution_count": 17,
   "metadata": {},
   "outputs": [],
   "source": [
    "import pandas as pd\n",
    "import numpy as np\n",
    "from py_np4vtt.data_format import Vars\n",
    "from py_np4vtt.model_lconstant import ModelLConstant, ConfigLConstant\n",
    "from py_np4vtt.data_import import make_modelarrays, compute_descriptives\n"
   ]
  },
  {
   "cell_type": "markdown",
   "metadata": {},
   "source": [
    "Now we read the CSV file:"
   ]
  },
  {
   "cell_type": "code",
   "execution_count": 18,
   "metadata": {},
   "outputs": [
    {
     "data": {
      "text/html": [
       "<div>\n",
       "<style scoped>\n",
       "    .dataframe tbody tr th:only-of-type {\n",
       "        vertical-align: middle;\n",
       "    }\n",
       "\n",
       "    .dataframe tbody tr th {\n",
       "        vertical-align: top;\n",
       "    }\n",
       "\n",
       "    .dataframe thead th {\n",
       "        text-align: right;\n",
       "    }\n",
       "</style>\n",
       "<table border=\"1\" class=\"dataframe\">\n",
       "  <thead>\n",
       "    <tr style=\"text-align: right;\">\n",
       "      <th></th>\n",
       "      <th>RespID</th>\n",
       "      <th>Mode</th>\n",
       "      <th>TravTime</th>\n",
       "      <th>BaseCost</th>\n",
       "      <th>Gender</th>\n",
       "      <th>AgeClass</th>\n",
       "      <th>IncClass</th>\n",
       "      <th>TravTimeClass</th>\n",
       "      <th>Purpose</th>\n",
       "      <th>CardID</th>\n",
       "      <th>...</th>\n",
       "      <th>TimeL</th>\n",
       "      <th>TimeR</th>\n",
       "      <th>Chosen</th>\n",
       "      <th>Quadrant2</th>\n",
       "      <th>Purpose2</th>\n",
       "      <th>Mode2</th>\n",
       "      <th>Income2</th>\n",
       "      <th>ExclGroup</th>\n",
       "      <th>Exclude_CDF</th>\n",
       "      <th>CS</th>\n",
       "    </tr>\n",
       "  </thead>\n",
       "  <tbody>\n",
       "    <tr>\n",
       "      <th>0</th>\n",
       "      <td>88</td>\n",
       "      <td>1</td>\n",
       "      <td>25</td>\n",
       "      <td>27</td>\n",
       "      <td>1</td>\n",
       "      <td>3</td>\n",
       "      <td>5</td>\n",
       "      <td>1</td>\n",
       "      <td>1</td>\n",
       "      <td>1</td>\n",
       "      <td>...</td>\n",
       "      <td>32</td>\n",
       "      <td>25</td>\n",
       "      <td>1</td>\n",
       "      <td>4</td>\n",
       "      <td>1</td>\n",
       "      <td>1</td>\n",
       "      <td>3</td>\n",
       "      <td>4</td>\n",
       "      <td>1</td>\n",
       "      <td>1</td>\n",
       "    </tr>\n",
       "    <tr>\n",
       "      <th>1</th>\n",
       "      <td>88</td>\n",
       "      <td>1</td>\n",
       "      <td>25</td>\n",
       "      <td>27</td>\n",
       "      <td>1</td>\n",
       "      <td>3</td>\n",
       "      <td>5</td>\n",
       "      <td>1</td>\n",
       "      <td>1</td>\n",
       "      <td>2</td>\n",
       "      <td>...</td>\n",
       "      <td>25</td>\n",
       "      <td>28</td>\n",
       "      <td>2</td>\n",
       "      <td>2</td>\n",
       "      <td>1</td>\n",
       "      <td>1</td>\n",
       "      <td>3</td>\n",
       "      <td>4</td>\n",
       "      <td>1</td>\n",
       "      <td>2</td>\n",
       "    </tr>\n",
       "    <tr>\n",
       "      <th>2</th>\n",
       "      <td>88</td>\n",
       "      <td>1</td>\n",
       "      <td>25</td>\n",
       "      <td>27</td>\n",
       "      <td>1</td>\n",
       "      <td>3</td>\n",
       "      <td>5</td>\n",
       "      <td>1</td>\n",
       "      <td>1</td>\n",
       "      <td>3</td>\n",
       "      <td>...</td>\n",
       "      <td>29</td>\n",
       "      <td>25</td>\n",
       "      <td>1</td>\n",
       "      <td>4</td>\n",
       "      <td>1</td>\n",
       "      <td>1</td>\n",
       "      <td>3</td>\n",
       "      <td>4</td>\n",
       "      <td>1</td>\n",
       "      <td>3</td>\n",
       "    </tr>\n",
       "    <tr>\n",
       "      <th>3</th>\n",
       "      <td>88</td>\n",
       "      <td>1</td>\n",
       "      <td>25</td>\n",
       "      <td>27</td>\n",
       "      <td>1</td>\n",
       "      <td>3</td>\n",
       "      <td>5</td>\n",
       "      <td>1</td>\n",
       "      <td>1</td>\n",
       "      <td>4</td>\n",
       "      <td>...</td>\n",
       "      <td>32</td>\n",
       "      <td>25</td>\n",
       "      <td>1</td>\n",
       "      <td>2</td>\n",
       "      <td>1</td>\n",
       "      <td>1</td>\n",
       "      <td>3</td>\n",
       "      <td>4</td>\n",
       "      <td>1</td>\n",
       "      <td>4</td>\n",
       "    </tr>\n",
       "    <tr>\n",
       "      <th>4</th>\n",
       "      <td>88</td>\n",
       "      <td>1</td>\n",
       "      <td>25</td>\n",
       "      <td>27</td>\n",
       "      <td>1</td>\n",
       "      <td>3</td>\n",
       "      <td>5</td>\n",
       "      <td>1</td>\n",
       "      <td>1</td>\n",
       "      <td>5</td>\n",
       "      <td>...</td>\n",
       "      <td>29</td>\n",
       "      <td>32</td>\n",
       "      <td>2</td>\n",
       "      <td>2</td>\n",
       "      <td>1</td>\n",
       "      <td>1</td>\n",
       "      <td>3</td>\n",
       "      <td>4</td>\n",
       "      <td>1</td>\n",
       "      <td>5</td>\n",
       "    </tr>\n",
       "  </tbody>\n",
       "</table>\n",
       "<p>5 rows × 22 columns</p>\n",
       "</div>"
      ],
      "text/plain": [
       "   RespID  Mode  TravTime  BaseCost  Gender  AgeClass  IncClass  \\\n",
       "0      88     1        25        27       1         3         5   \n",
       "1      88     1        25        27       1         3         5   \n",
       "2      88     1        25        27       1         3         5   \n",
       "3      88     1        25        27       1         3         5   \n",
       "4      88     1        25        27       1         3         5   \n",
       "\n",
       "   TravTimeClass  Purpose  CardID  ...  TimeL  TimeR  Chosen  Quadrant2  \\\n",
       "0              1        1       1  ...     32     25       1          4   \n",
       "1              1        1       2  ...     25     28       2          2   \n",
       "2              1        1       3  ...     29     25       1          4   \n",
       "3              1        1       4  ...     32     25       1          2   \n",
       "4              1        1       5  ...     29     32       2          2   \n",
       "\n",
       "   Purpose2  Mode2  Income2  ExclGroup  Exclude_CDF  CS  \n",
       "0         1      1        3          4            1   1  \n",
       "1         1      1        3          4            1   2  \n",
       "2         1      1        3          4            1   3  \n",
       "3         1      1        3          4            1   4  \n",
       "4         1      1        3          4            1   5  \n",
       "\n",
       "[5 rows x 22 columns]"
      ]
     },
     "execution_count": 18,
     "metadata": {},
     "output_type": "execute_result"
    }
   ],
   "source": [
    "df = pd.read_table('../data/Norway2009VTT_demodata.txt')\n",
    "df.head()"
   ]
  },
  {
   "cell_type": "markdown",
   "metadata": {},
   "source": [
    "The dataset contains 22 variables. Each row is a binary choice task. We will use:\n",
    "\n",
    "* `RespID`: ID of each respondent.\n",
    "* `Chosen`: Chosen alternative.\n",
    "* `CostL`: Travel cost of alternatives 1 [NOK]\n",
    "* `CostR`: Travel cost of alternatives 2 [NOK]\n",
    "* `TimeL`: Travel time of alternatives 1 [minutes]\n",
    "* `TimeR`: Travel time of alternatives 2 [minutes]\n",
    "\n",
    "NP4VTT detects automatically the _slow and cheap_ and _fast and expensive_ alternative, for each choice situation. If NP4VTT finds violations to those two options (e.g., a fast-cheap) alternative, it will raise an error message."
   ]
  },
  {
   "cell_type": "markdown",
   "metadata": {},
   "source": [
    "Change currency of travel time to euros and change unit of travel time to hours"
   ]
  },
  {
   "cell_type": "code",
   "execution_count": 19,
   "metadata": {},
   "outputs": [],
   "source": [
    "# Convert to euros\n",
    "NOK2euro_exchange_rate = 9\n",
    "df[['CostL','CostR']] = df[['CostL','CostR']] .div(NOK2euro_exchange_rate)\n",
    "\n",
    "# convert to hours\n",
    "df[['TimeL','TimeR']] = df[['TimeL','TimeR']] .div(60)"
   ]
  },
  {
   "cell_type": "markdown",
   "metadata": {},
   "source": [
    "Now we create a dictionary to map the required variables for NP4VTT with the variables of the dataset:"
   ]
  },
  {
   "cell_type": "code",
   "execution_count": 20,
   "metadata": {},
   "outputs": [],
   "source": [
    "columnarrays = {\n",
    "    Vars.Id: 'RespID',\n",
    "    Vars.ChosenAlt: 'Chosen',\n",
    "    Vars.Cost1: 'CostL',\n",
    "    Vars.Cost2: 'CostR',\n",
    "    Vars.Time1: 'TimeL',\n",
    "    Vars.Time2: 'TimeR',\n",
    "}"
   ]
  },
  {
   "cell_type": "markdown",
   "metadata": {},
   "source": [
    "And we create the required arrays:"
   ]
  },
  {
   "cell_type": "code",
   "execution_count": 21,
   "metadata": {},
   "outputs": [],
   "source": [
    "model_arrays = make_modelarrays(df, columnarrays)"
   ]
  },
  {
   "cell_type": "markdown",
   "metadata": {},
   "source": [
    "The function `make_modelarrays` creates six elements used by NP4VTT to estimate/train a model:\n",
    "\n",
    "* `BVTT`: Contains the Boundary VTT per choice situation, computed from costs and time.\n",
    "* `Choice`: A matrix of dummy variables that are equal to one if the respondent choose the fast-expensive alternative on each choice situation.\n",
    "* `Accepts`: Number of times a respondent chose the fast-expensive alternative.\n",
    "* `ID`: Unique identifier of each respondent.\n",
    "* `NP`: Number of respondents in the dataset.\n",
    "* `T`: Number of choice situations per respondent."
   ]
  },
  {
   "cell_type": "markdown",
   "metadata": {},
   "source": [
    "## Step 2: Compute descriptives\n",
    "\n",
    "The function `compute_descriptives` provides a small overview of the dataset characteristics:"
   ]
  },
  {
   "cell_type": "code",
   "execution_count": 22,
   "metadata": {},
   "outputs": [
    {
     "name": "stdout",
     "output_type": "stream",
     "text": [
      "No. individuals: 5832\n",
      "Sets per indiv.: 9\n",
      "\n",
      "Number of non-traders:\n",
      "Fast-exp. alt.: 144\n",
      "Slow-cheap alt.: 808\n",
      "\n",
      "BVTT statistics:\n",
      "Mean chosen BVTT: 10.2977\n",
      "Minimum of BVTT: 0.6667\n",
      "Maximum of BVTT: 113.5632\n"
     ]
    }
   ],
   "source": [
    "descriptives = compute_descriptives(model_arrays)\n",
    "print(descriptives)"
   ]
  },
  {
   "cell_type": "markdown",
   "metadata": {},
   "source": [
    "## Step 3: Configure the local constant model\n",
    "\n",
    "The local logit model requires the following parameters from the user:\n",
    "\n",
    "* `minimum`: The minimum of the VTT grid.\n",
    "* `maximum`: The maximum of the VTT grid.\n",
    "* `supportPoints`: The number of support points.\n",
    "* `kernelWidth`: The bandwidth of the kernel\n",
    "The function `ConfigLConstant` takes the configuration parameters of the local constant model and creates an object that is used by the optimisation routine:"
   ]
  },
  {
   "cell_type": "code",
   "execution_count": 23,
   "metadata": {},
   "outputs": [],
   "source": [
    "config = ConfigLConstant(minimum=0, maximum=100, supportPoints=21, kernelWidth = 2)"
   ]
  },
  {
   "cell_type": "markdown",
   "metadata": {},
   "source": [
    "Now, we create the local constant model object that contains the configuration parameters and the data arrays. Then, we initialise the arguments:"
   ]
  },
  {
   "cell_type": "code",
   "execution_count": 24,
   "metadata": {},
   "outputs": [
    {
     "name": "stdout",
     "output_type": "stream",
     "text": [
      "Created a VTT grid of 21 points between 0 and 100.\n",
      "Distance between points of the VTT grid is 5.0\n"
     ]
    }
   ],
   "source": [
    "lc = ModelLConstant(config, model_arrays)"
   ]
  },
  {
   "cell_type": "markdown",
   "metadata": {},
   "source": [
    "`ModelLConstant` creates the following objects that can be accessed using the 'dot' notation (i.e., `ModelLConstant.`_object_):\n",
    "\n",
    "* `vtt_grid`: VTT grid as specified in `ConfigLConstant`\n",
    "* `vtt_mid`: VTT mid points, based in the VTT grid. The first point of the grid is zero, whereas the last point is equal to the last point of the original VTT grid."
   ]
  },
  {
   "cell_type": "code",
   "execution_count": 25,
   "metadata": {},
   "outputs": [
    {
     "data": {
      "text/plain": [
       "array([  0.,   5.,  10.,  15.,  20.,  25.,  30.,  35.,  40.,  45.,  50.,\n",
       "        55.,  60.,  65.,  70.,  75.,  80.,  85.,  90.,  95., 100.])"
      ]
     },
     "execution_count": 25,
     "metadata": {},
     "output_type": "execute_result"
    }
   ],
   "source": [
    "vtt_grid = lc.vtt_grid\n",
    "vtt_grid"
   ]
  },
  {
   "cell_type": "code",
   "execution_count": 26,
   "metadata": {},
   "outputs": [
    {
     "data": {
      "text/plain": [
       "array([  0. ,   2.5,   7.5,  12.5,  17.5,  22.5,  27.5,  32.5,  37.5,\n",
       "        42.5,  47.5,  52.5,  57.5,  62.5,  67.5,  72.5,  77.5,  82.5,\n",
       "        87.5,  92.5,  97.5, 100. ])"
      ]
     },
     "execution_count": 26,
     "metadata": {},
     "output_type": "execute_result"
    }
   ],
   "source": [
    "vtt_mid = lc.vtt_mid\n",
    "vtt_mid"
   ]
  },
  {
   "cell_type": "markdown",
   "metadata": {},
   "source": [
    "## Step 4: Estimate a local constant model\n",
    "\n",
    "Once the local constant object is initialised, the `run` method starts the optimisation process:"
   ]
  },
  {
   "cell_type": "code",
   "execution_count": 27,
   "metadata": {},
   "outputs": [],
   "source": [
    "p, vtt, est_time = lc.run()"
   ]
  },
  {
   "attachments": {},
   "cell_type": "markdown",
   "metadata": {},
   "source": [
    "The estimated model returns:\n",
    "\n",
    "* `p`: The estimates of the cumulative probability function (CDF) evaluated at each mid point of the VTT grid stored in the local constant model object. The first point is always zero while the last point is always equal to the second last for compatibility with plots.\n",
    "* `vtt`: The predicted VTT for each respondent, based in the probabilities of `mean_f` and the VTT grid.\n",
    "* `est_time`: The estimation time in seconds.\n",
    "\n",
    "The following lines present the estimated results:"
   ]
  },
  {
   "cell_type": "code",
   "execution_count": 28,
   "metadata": {},
   "outputs": [
    {
     "name": "stdout",
     "output_type": "stream",
     "text": [
      "Estimation results:\n",
      "\n",
      "Estimation time: 0.0816 seconds.\n",
      "\n",
      "VTT distribution at each mid point of the VTT grid:\n",
      "      VTT  Cum. Prob.\n",
      "0     0.0    0.000000\n",
      "1     2.5    0.187481\n",
      "2     7.5    0.455846\n",
      "3    12.5    0.614643\n",
      "4    17.5    0.753232\n",
      "5    22.5    0.812113\n",
      "6    27.5    0.850271\n",
      "7    32.5    0.851861\n",
      "8    37.5    0.886539\n",
      "9    42.5    0.908350\n",
      "10   47.5    0.914379\n",
      "11   52.5    0.928052\n",
      "12   57.5    0.943366\n",
      "13   62.5    0.926999\n",
      "14   67.5    0.927135\n",
      "15   72.5    0.938530\n",
      "16   77.5    0.950733\n",
      "17   82.5    0.939235\n",
      "18   87.5    0.980716\n",
      "19   92.5    0.911089\n",
      "20   97.5    0.931039\n",
      "21  100.0    0.931039\n"
     ]
    }
   ],
   "source": [
    "# Create dataframe\n",
    "results = pd.DataFrame(np.c_[vtt_mid,p],columns=['VTT','Cum. Prob.'],index=np.arange(len(vtt_mid)))\n",
    "\n",
    "# Print outputs\n",
    "print('Estimation results:\\n')\n",
    "print('Estimation time: ' + str(round(est_time,4)) + ' seconds.' + '\\n')\n",
    "print('VTT distribution at each mid point of the VTT grid:')\n",
    "print(results)"
   ]
  },
  {
   "cell_type": "markdown",
   "metadata": {},
   "source": [
    "## Step 5: Visualising the VTT distribution\n",
    "\n",
    "We create the empirical CDF of the VTT. For easy interpretation, we use create a histogram from the CDF. \n",
    "We use matplotlib for this:"
   ]
  },
  {
   "cell_type": "code",
   "execution_count": 29,
   "metadata": {},
   "outputs": [
    {
     "data": {
      "image/png": "[encoded data removed]",
      "text/plain": [
       "<Figure size 1120x480 with 2 Axes>"
      ]
     },
     "metadata": {},
     "output_type": "display_data"
    }
   ],
   "source": [
    "import matplotlib.pyplot as plt\n",
    "\n",
    "fig, ax = plt.subplots(1,2,figsize=(14,6), dpi=80)\n",
    "\n",
    "# Plot CDF\n",
    "ax[0].plot(vtt_mid,p,marker='o')\n",
    "ax[0].set_xlim(0,80)\n",
    "ax[0].set_ylim(0,1)\n",
    "ax[0].set_xlabel('VTT [euro/hour]')\n",
    "ax[0].set_ylabel('Estimated cumulative probability')\n",
    "\n",
    "# Plot histogram\n",
    "ax[1].set_xlim(0,80)\n",
    "ax[1].set_xlabel('VTT [euro/hour]')\n",
    "ax[1].set_ylabel('Count')\n",
    "ax[1].hist(vtt, bins = vtt_grid,edgecolor=\"white\")\n",
    "fig.suptitle('Local constant')\n",
    "plt.savefig('outcomes/lconstant.png')\n",
    "plt.show()"
   ]
  }
 ],
 "metadata": {
  "kernelspec": {
   "display_name": "Python 3.9.15 ('py-np4vtt-mBO9B2gJ-py3.9')",
   "language": "python",
   "name": "python3"
  },
  "language_info": {
   "codemirror_mode": {
    "name": "ipython",
    "version": 3
   },
   "file_extension": ".py",
   "mimetype": "text/x-python",
   "name": "python",
   "nbconvert_exporter": "python",
   "pygments_lexer": "ipython3",
   "version": "3.9.13"
  },
  "orig_nbformat": 4,
  "vscode": {
   "interpreter": {
    "hash": "90a00f98a139d1526ae6fe98b400e700e7f03050a36cb84ce8f70e10102e153d"
   }
  }
 },
 "nbformat": 4,
 "nbformat_minor": 2
}
