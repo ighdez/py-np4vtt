{
 "cells": [
  {
   "attachments": {},
   "cell_type": "markdown",
   "metadata": {},
   "source": [
    "# NP4VTT beyond the value of travel time: Normal distribution\n",
    "\n",
    "In this notebook, we briefly show how NP4VTT can be used beyond calculating the value of travel time (VTT) distribution. We use pseudo-synthetic data based on the 1989's Exxon-Valdez Contingent Valuation (CV) survey (Carson et al., 2003) as if this instrument was conducted as a two-attribute-two-alternative choice experiment.\n",
    "\n",
    "This example was generated to answer the difficulties to find two-attribute-two-alternative choice experiments outside the transportation domain to compute the VTT. The data used in this notebook are only for illustrative purposes and it does not represent a real-life experiment. Thus, this data cannot be used to draw policy advices.\n",
    "\n",
    "## The choice experiment\n",
    "We created a choice experiment based on the Exxon-Valdez CV survey context. In this choice experiment, respondents are asked to envision a reparation plan to mitigate the negative effects of the oil spill. This mitigation plan, if implemented, will reduce the environmental damage (as a percentage of covered area with crude oil), but it may require an additional one-off tax since the government is incapable to cover all the costs.\n",
    "\n",
    "Therefore, the experiment consists of 10 choice situations with two alternative reparation plans. Each plan consists of two attributes: 1) tax (in dollars), and 2) environmental damage after the plan is conducted (in percentage of the covered area).\n",
    "\n",
    "An example choice situation is presented below:\n",
    "\n",
    "| Attributes | Plan A | Plan B |\n",
    "| ---------- | ------ | ------ |\n",
    "| Taxes      | 20     | 50     |\n",
    "| Damage     | 80     | 20     |\n",
    "| **CHOICE** | X      |        |\n",
    "\n",
    "The initial experimental design consists of a full-factorial design of 10 levels for the tax attribute, and 9 levels for the damage attribute. The ranges of the tax attribute are based on the minimum and maximum bid values presented in the Exxon-Valdez CV survey. The ranges of the damage attribute are assumed by the analyst.\n",
    "\n",
    "From this experimental design, dominant and dominated choice situations were removed. The first alternative (Plan A) always presents a cheaper and less effective (in terms of damage) plan, whereas the second alternative (Plan B) always presents a more expensive and more effective plan.\n",
    "\n",
    "The potential attribute levels are presented below\n",
    "| Attributes | Levels |\n",
    "| ---------- | ------ |\n",
    "| Taxes      | 10, 30, 40, 50, 60, 70, 80, 90, 100, 120    |\n",
    "| Damage     | 10, 20, 30, 40, 50, 60, 70, 80, 90          |\n",
    "\n"
   ]
  },
  {
   "attachments": {},
   "cell_type": "markdown",
   "metadata": {},
   "source": [
    "## Step 1: Load modules and data, and create arrays"
   ]
  },
  {
   "cell_type": "code",
   "execution_count": 62,
   "metadata": {},
   "outputs": [],
   "source": [
    "import sys\n",
    "sys.path.append('../../src')"
   ]
  },
  {
   "cell_type": "code",
   "execution_count": 63,
   "metadata": {},
   "outputs": [],
   "source": [
    "import pandas as pd\n",
    "import numpy as np\n",
    "from py_np4vtt.data_format import Vars\n",
    "from py_np4vtt.data_import import make_modelarrays, compute_descriptives\n",
    "\n",
    "from py_np4vtt.model_lconstant import ModelLConstant, ConfigLConstant\n",
    "from py_np4vtt.model_loclogit import ModelLocLogit, ConfigLocLogit\n",
    "from py_np4vtt.model_rouwendal import ModelRouwendal, ConfigRouwendal\n",
    "from py_np4vtt.model_ann import ModelANN, ConfigANN\n"
   ]
  },
  {
   "cell_type": "code",
   "execution_count": 64,
   "metadata": {},
   "outputs": [
    {
     "data": {
      "text/html": [
       "<div>\n",
       "<style scoped>\n",
       "    .dataframe tbody tr th:only-of-type {\n",
       "        vertical-align: middle;\n",
       "    }\n",
       "\n",
       "    .dataframe tbody tr th {\n",
       "        vertical-align: top;\n",
       "    }\n",
       "\n",
       "    .dataframe thead th {\n",
       "        text-align: right;\n",
       "    }\n",
       "</style>\n",
       "<table border=\"1\" class=\"dataframe\">\n",
       "  <thead>\n",
       "    <tr style=\"text-align: right;\">\n",
       "      <th></th>\n",
       "      <th>bid1</th>\n",
       "      <th>dam1</th>\n",
       "      <th>bid2</th>\n",
       "      <th>dam2</th>\n",
       "      <th>bvtt</th>\n",
       "      <th>choice</th>\n",
       "      <th>id</th>\n",
       "      <th>vtt</th>\n",
       "    </tr>\n",
       "  </thead>\n",
       "  <tbody>\n",
       "    <tr>\n",
       "      <th>0</th>\n",
       "      <td>40.0</td>\n",
       "      <td>90.0</td>\n",
       "      <td>120.0</td>\n",
       "      <td>20.0</td>\n",
       "      <td>1.142857</td>\n",
       "      <td>2</td>\n",
       "      <td>1.0</td>\n",
       "      <td>2.288087</td>\n",
       "    </tr>\n",
       "    <tr>\n",
       "      <th>1</th>\n",
       "      <td>10.0</td>\n",
       "      <td>60.0</td>\n",
       "      <td>90.0</td>\n",
       "      <td>20.0</td>\n",
       "      <td>2.000000</td>\n",
       "      <td>1</td>\n",
       "      <td>1.0</td>\n",
       "      <td>2.288087</td>\n",
       "    </tr>\n",
       "    <tr>\n",
       "      <th>2</th>\n",
       "      <td>30.0</td>\n",
       "      <td>90.0</td>\n",
       "      <td>70.0</td>\n",
       "      <td>20.0</td>\n",
       "      <td>0.571429</td>\n",
       "      <td>2</td>\n",
       "      <td>1.0</td>\n",
       "      <td>2.288087</td>\n",
       "    </tr>\n",
       "    <tr>\n",
       "      <th>3</th>\n",
       "      <td>80.0</td>\n",
       "      <td>60.0</td>\n",
       "      <td>120.0</td>\n",
       "      <td>40.0</td>\n",
       "      <td>2.000000</td>\n",
       "      <td>2</td>\n",
       "      <td>1.0</td>\n",
       "      <td>2.288087</td>\n",
       "    </tr>\n",
       "    <tr>\n",
       "      <th>4</th>\n",
       "      <td>60.0</td>\n",
       "      <td>60.0</td>\n",
       "      <td>100.0</td>\n",
       "      <td>20.0</td>\n",
       "      <td>1.000000</td>\n",
       "      <td>1</td>\n",
       "      <td>1.0</td>\n",
       "      <td>2.288087</td>\n",
       "    </tr>\n",
       "  </tbody>\n",
       "</table>\n",
       "</div>"
      ],
      "text/plain": [
       "   bid1  dam1   bid2  dam2      bvtt  choice   id       vtt\n",
       "0  40.0  90.0  120.0  20.0  1.142857       2  1.0  2.288087\n",
       "1  10.0  60.0   90.0  20.0  2.000000       1  1.0  2.288087\n",
       "2  30.0  90.0   70.0  20.0  0.571429       2  1.0  2.288087\n",
       "3  80.0  60.0  120.0  40.0  2.000000       2  1.0  2.288087\n",
       "4  60.0  60.0  100.0  20.0  1.000000       1  1.0  2.288087"
      ]
     },
     "execution_count": 64,
     "metadata": {},
     "output_type": "execute_result"
    }
   ],
   "source": [
    "df = pd.read_csv('../../data/env_synth_normal.csv')\n",
    "df.head()"
   ]
  },
  {
   "attachments": {},
   "cell_type": "markdown",
   "metadata": {},
   "source": [
    "We will use:\n",
    "\n",
    "* `id`: ID of each respondent.\n",
    "* `choice`: Chosen alternative.\n",
    "* `bid1`: Cost of alternative 1\n",
    "* `bid2`: Cost of alternative 2\n",
    "* `dam1`: Damage of alternative 1\n",
    "* `dam2`: Damage of alternative 2"
   ]
  },
  {
   "cell_type": "code",
   "execution_count": 65,
   "metadata": {},
   "outputs": [],
   "source": [
    "columnarrays = {\n",
    "    Vars.Id: 'id',\n",
    "    Vars.ChosenAlt: 'choice',\n",
    "    Vars.Cost1: 'bid1',\n",
    "    Vars.Cost2: 'bid2',\n",
    "    Vars.Time1: 'dam1',\n",
    "    Vars.Time2: 'dam2',\n",
    "}"
   ]
  },
  {
   "attachments": {},
   "cell_type": "markdown",
   "metadata": {},
   "source": [
    "And we create the required arrays:"
   ]
  },
  {
   "cell_type": "code",
   "execution_count": 66,
   "metadata": {},
   "outputs": [],
   "source": [
    "model_arrays = make_modelarrays(df, columnarrays)"
   ]
  },
  {
   "attachments": {},
   "cell_type": "markdown",
   "metadata": {},
   "source": [
    "## Step 2: Compute descriptives\n",
    "\n",
    "The function `compute_descriptives` provides a small overview of the dataset characteristics:"
   ]
  },
  {
   "cell_type": "code",
   "execution_count": 67,
   "metadata": {},
   "outputs": [
    {
     "name": "stdout",
     "output_type": "stream",
     "text": [
      "Balanced panel: True\n",
      "No. individuals: 5000\n",
      "Sets per indiv.: 10\n",
      "\n",
      "Number of non-traders:\n",
      "Fast-exp. alt.: 262\n",
      "Slow-cheap alt.: 0\n",
      "\n",
      "BVTT statistics:\n",
      "No. of unique BVTT points: 57\n",
      "Mean chosen BVTT: 1.1874\n",
      "Minimum of BVTT: 0.125\n",
      "Maximum of BVTT: 11.0\n"
     ]
    }
   ],
   "source": [
    "descriptives = compute_descriptives(model_arrays)\n",
    "print(descriptives)"
   ]
  },
  {
   "attachments": {},
   "cell_type": "markdown",
   "metadata": {},
   "source": [
    "And we plot a histogram of the BVTT:"
   ]
  },
  {
   "cell_type": "code",
   "execution_count": 68,
   "metadata": {},
   "outputs": [
    {
     "data": {
      "image/png": "[encoded data removed]",
      "text/plain": [
       "<Figure size 640x480 with 1 Axes>"
      ]
     },
     "metadata": {},
     "output_type": "display_data"
    }
   ],
   "source": [
    "import matplotlib.pyplot as plt\n",
    "plt.hist(model_arrays.BVTT.flatten(),bins=20)\n",
    "plt.show()"
   ]
  },
  {
   "attachments": {},
   "cell_type": "markdown",
   "metadata": {},
   "source": [
    "## Step 3: Configure models\n",
    "We configure the local constant, local Logit, Rouwendal's and ANN models. We use the same syntax as in the Norwegian VTT data:"
   ]
  },
  {
   "cell_type": "code",
   "execution_count": 75,
   "metadata": {},
   "outputs": [],
   "source": [
    "# Config models\n",
    "cfg_lconstant = ConfigLConstant(minimum=0, maximum=5, supportPoints=11, kernelWidth = 0.1)\n",
    "cfg_loclogit = ConfigLocLogit(minimum=0, maximum=5, supportPoints=11)\n",
    "cfg_rouwendal = ConfigRouwendal(minimum= 0, maximum=5, supportPoints= 21, startQ= 0.9)\n",
    "cfg_ann = ConfigANN(hiddenLayerNodes=[5,5], trainingRepeats= 5, shufflesPerRepeat= 50, seed = None)"
   ]
  },
  {
   "attachments": {},
   "cell_type": "markdown",
   "metadata": {},
   "source": [
    "## Step 4: Estimate models\n",
    "\n",
    "Now we estimate each of the models and we print results:"
   ]
  },
  {
   "cell_type": "code",
   "execution_count": 70,
   "metadata": {},
   "outputs": [
    {
     "name": "stdout",
     "output_type": "stream",
     "text": [
      "Created a VTT grid of 11 points between 0 and 5.\n",
      "Distance between points of the VTT grid is 0.5\n",
      "Estimation results of Local Constant model:\n",
      "\n",
      "Estimation time: 0.0372 seconds.\n",
      "\n",
      "VTT distribution at each mid point of the VTT grid:\n",
      "     VTT  Cum. Prob.\n",
      "0   0.00    0.000000\n",
      "1   0.25    0.073080\n",
      "2   0.75    0.100202\n",
      "3   1.25    0.151362\n",
      "4   1.75    0.213861\n",
      "5   2.25    0.345151\n",
      "6   2.75    0.459580\n",
      "7   3.25    0.494133\n",
      "8   3.75    0.634632\n",
      "9   4.25    0.703606\n",
      "10  4.75    0.792627\n",
      "11  5.00    0.792627\n"
     ]
    }
   ],
   "source": [
    "# Create local constant object and estimate\n",
    "lc = ModelLConstant(cfg_lconstant, model_arrays)\n",
    "p_lc, vtt_lc, est_time_lc = lc.run()\n",
    "\n",
    "# Print outputs\n",
    "results = pd.DataFrame(np.c_[lc.vtt_mid,p_lc],columns=['VTT','Cum. Prob.'],index=np.arange(len(lc.vtt_mid)))\n",
    "print('Estimation results of Local Constant model:\\n')\n",
    "print('Estimation time: ' + str(round(est_time_lc,4)) + ' seconds.' + '\\n')\n",
    "print('VTT distribution at each mid point of the VTT grid:')\n",
    "print(results)"
   ]
  },
  {
   "cell_type": "code",
   "execution_count": 71,
   "metadata": {},
   "outputs": [
    {
     "name": "stdout",
     "output_type": "stream",
     "text": [
      "Created a VTT grid of 11 points between 0 and 5.\n",
      "Distance between points of the VTT grid is 0.5\n",
      "Estimation results of Local Logit model:\n",
      "\n",
      "Estimation time: 0.739 seconds.\n",
      "Final log-likelihood: -19847.83\n",
      "\n",
      "Estimated Cumulative probability:\n",
      "           VTT   Prob.\n",
      "0  (0.0 - 0.5)  0.0695\n",
      "1  (0.5 - 1.0)  0.0854\n",
      "2  (1.0 - 1.5)  0.1302\n",
      "3  (1.5 - 2.0)  0.1904\n",
      "4  (2.0 - 2.5)  0.2807\n",
      "5  (2.5 - 3.0)  0.3943\n",
      "6  (3.0 - 3.5)   0.494\n",
      "7  (3.5 - 4.0)  0.5644\n",
      "8  (4.0 - 4.5)  0.7036\n",
      "9  (4.5 - 5.0)  0.7926\n"
     ]
    }
   ],
   "source": [
    "# Create local logit object and estimate\n",
    "loclogit = ModelLocLogit(cfg_loclogit, model_arrays)\n",
    "p_loclogit, vtt_loclogit, ll_loclogit, est_time_loclogit = loclogit.run()\n",
    "\n",
    "# Print outputs\n",
    "grid_range = ['(' + str(loclogit.vtt_grid[i]) + ' - ' + str(loclogit.vtt_grid[i+1]) + ')' for i in range(loclogit.vtt_grid.shape[0]-1)]\n",
    "results = pd.DataFrame(np.c_[grid_range,np.round(p_loclogit[1:-1],4)],columns=['VTT','Prob.'],index=np.arange(len(loclogit.vtt_grid[1:])))\n",
    "print('Estimation results of Local Logit model:\\n')\n",
    "print('Estimation time: ' + str(round(est_time_loclogit,4)) + ' seconds.')\n",
    "print('Final log-likelihood: ' + str(round(ll_loclogit,2)))\n",
    "print('\\nEstimated Cumulative probability:')\n",
    "print(results)"
   ]
  },
  {
   "cell_type": "code",
   "execution_count": 72,
   "metadata": {},
   "outputs": [
    {
     "name": "stdout",
     "output_type": "stream",
     "text": [
      "Created a VTT grid of 21 points between 0 and 5.\n",
      "Distance between points of the VTT grid is 0.25\n",
      "Initial F-value: 23009.79\n",
      "Iter No. 1: F-value: 22923.68 / Step size: 0.000488 / G-norm: 1632502.442489\n",
      "Iter No. 2: F-value: 21952.57 / Step size: 0.03125 / G-norm: 346047.608782\n",
      "Iter No. 3: F-value: 21879.63 / Step size: 0.03125 / G-norm: 7430.098665\n",
      "Iter No. 4: F-value: 21811.44 / Step size: 0.007812 / G-norm: 15294.382643\n",
      "Iter No. 5: F-value: 21806.08 / Step size: 0.015625 / G-norm: 1225.980307\n",
      "Iter No. 6: F-value: 21789.85 / Step size: 0.0625 / G-norm: 652.939323\n",
      "Iter No. 7: F-value: 21779.37 / Step size: 0.125 / G-norm: 639.833686\n",
      "Iter No. 8: F-value: 21730.67 / Step size: 0.03125 / G-norm: 4482.286169\n",
      "Iter No. 9: F-value: 21720.1 / Step size: 0.0625 / G-norm: 1096.660926\n",
      "Iter No. 10: F-value: 21686.98 / Step size: 0.0625 / G-norm: 1078.3389\n",
      "Iter No. 11: F-value: 21669.21 / Step size: 0.5 / G-norm: 83.637488\n",
      "Iter No. 12: F-value: 21662.73 / Step size: 0.125 / G-norm: 218.25126\n",
      "Iter No. 13: F-value: 21657.83 / Step size: 0.0625 / G-norm: 542.432846\n",
      "Iter No. 14: F-value: 21653.74 / Step size: 0.25 / G-norm: 52.867068\n",
      "Iter No. 15: F-value: 21651.65 / Step size: 1 / G-norm: 32.650034\n",
      "Iter No. 16: F-value: 21641.8 / Step size: 1 / G-norm: 22.446798\n",
      "Iter No. 17: F-value: 21638.83 / Step size: 1 / G-norm: 7.046368\n",
      "Iter No. 18: F-value: 21637.48 / Step size: 1 / G-norm: 1.879706\n",
      "Iter No. 19: F-value: 21636.71 / Step size: 1 / G-norm: 1.294257\n",
      "Iter No. 20: F-value: 21636.4 / Step size: 1 / G-norm: 0.393947\n",
      "Iter No. 21: F-value: 21635.92 / Step size: 1 / G-norm: 0.670154\n",
      "Iter No. 22: F-value: 21635.09 / Step size: 1 / G-norm: 0.720652\n",
      "Iter No. 23: F-value: 21635.09 / Step size: 0.0 / G-norm: 1.957856\n",
      "Iter No. 24: F-value: 21632.24 / Step size: 0.125 / G-norm: 31.829726\n",
      "Iter No. 25: F-value: 21631.21 / Step size: 0.5 / G-norm: 26.580407\n",
      "Iter No. 26: F-value: 21630.08 / Step size: 1 / G-norm: 1.448434\n",
      "Iter No. 27: F-value: 21629.05 / Step size: 0.5 / G-norm: 4.576493\n",
      "Iter No. 28: F-value: 21628.86 / Step size: 1 / G-norm: 0.511325\n",
      "Iter No. 29: F-value: 21628.77 / Step size: 1 / G-norm: 0.123608\n",
      "Iter No. 30: F-value: 21628.7 / Step size: 1 / G-norm: 0.112931\n",
      "Iter No. 31: F-value: 21628.67 / Step size: 1 / G-norm: 0.034442\n",
      "Iter No. 32: F-value: 21628.51 / Step size: 1 / G-norm: 0.185145\n",
      "Iter No. 33: F-value: 21628.07 / Step size: 0.125 / G-norm: 2.397953\n",
      "Iter No. 34: F-value: 21628.07 / Step size: 0.0 / G-norm: 0.823435\n",
      "Iter No. 35: F-value: 21627.8 / Step size: 0.03125 / G-norm: 12.512378\n",
      "Iter No. 36: F-value: 21627.72 / Step size: 0.125 / G-norm: 1.321859\n",
      "Iter No. 37: F-value: 21627.3 / Step size: 1 / G-norm: 0.935437\n",
      "Iter No. 38: F-value: 21627.09 / Step size: 1 / G-norm: 0.377668\n",
      "Iter No. 39: F-value: 21626.9 / Step size: 0.5 / G-norm: 0.848773\n",
      "Iter No. 40: F-value: 21626.73 / Step size: 1 / G-norm: 0.318335\n",
      "Iter No. 41: F-value: 21626.69 / Step size: 1 / G-norm: 0.079243\n",
      "Iter No. 42: F-value: 21626.69 / Step size: 1 / G-norm: 0.00871\n",
      "Iter No. 43: F-value: 21626.69 / Step size: 1 / G-norm: 0.002722\n",
      "Iter No. 44: F-value: 21626.69 / Step size: 1 / G-norm: 0.001657\n",
      "Iter No. 45: F-value: 21626.69 / Step size: 1 / G-norm: 0.000465\n",
      "Iter No. 46: F-value: 21626.69 / Step size: 1 / G-norm: 0.000563\n",
      "Iter No. 47: F-value: 21626.69 / Step size: 1 / G-norm: 0.000172\n",
      "Iter No. 48: F-value: 21626.69 / Step size: 1 / G-norm: 4.4e-05\n",
      "Iter No. 49: F-value: 21626.69 / Step size: 1 / G-norm: 1.2e-05\n",
      "Iter No. 50: F-value: 21626.69 / Step size: 1 / G-norm: 6e-06\n",
      "Iter No. 51: F-value: 21626.69 / Step size: 1 / G-norm: 3e-06\n",
      "Iter No. 52: F-value: 21626.69 / Step size: 1 / G-norm: 2e-06\n",
      "Iter No. 53: F-value: 21626.69 / Step size: 1 / G-norm: 2e-06\n",
      "Iter No. 54: F-value: 21626.69 / Step size: 1 / G-norm: 1e-06\n",
      "\n",
      "Local minimum found. G-norm below tolerance\n",
      "Estimation results:\n",
      "\n",
      "Estimation time: 24.7013 seconds.\n",
      "Final log-likelihood: -21626.69\n",
      "Estimated prob. of consistent choice: 0.8699\n",
      "\n",
      "Estimated Cumulative probability:\n",
      "      VTT    Cum. Prob.\n",
      "0   0.000  0.000000e+00\n",
      "1   0.125  1.392800e-07\n",
      "2   0.375  1.813444e-07\n",
      "3   0.625  6.893792e-07\n",
      "4   0.875  2.205822e-03\n",
      "5   1.125  2.206012e-03\n",
      "6   1.375  1.077693e-02\n",
      "7   1.625  3.965491e-02\n",
      "8   1.875  7.597832e-02\n",
      "9   2.125  1.372215e-01\n",
      "10  2.375  2.768741e-01\n",
      "11  2.625  3.452919e-01\n",
      "12  2.875  3.932615e-01\n",
      "13  3.125  4.982193e-01\n",
      "14  3.375  5.898192e-01\n",
      "15  3.625  6.758690e-01\n",
      "16  3.875  7.472747e-01\n",
      "17  4.125  8.242769e-01\n",
      "18  4.375  9.092578e-01\n",
      "19  4.625  9.319638e-01\n",
      "20  4.875  9.640113e-01\n",
      "21  5.000  1.000000e+00\n"
     ]
    }
   ],
   "source": [
    "# Create Rouwendal model object and estimate\n",
    "rouwendal = ModelRouwendal(cfg_rouwendal,model_arrays)\n",
    "q_est_rw, q_se_rw, q_prob_rw, x_rw, se_rw, p_rw, vtt_rw, init_ll_rw, ll_rw, exitflag_rw, est_time_rw = rouwendal.run()\n",
    "\n",
    "# Print outputs\n",
    "results = pd.DataFrame(np.c_[rouwendal.vtt_mid,p_rw],columns=['VTT','Cum. Prob.'],index=np.arange(len(rouwendal.vtt_mid)))\n",
    "print('Estimation results:\\n')\n",
    "print('Estimation time: ' + str(round(est_time_rw,4)) + ' seconds.')\n",
    "print('Final log-likelihood: ' + str(round(ll_rw,2)))\n",
    "print('Estimated prob. of consistent choice: ' + str(round(q_prob_rw,4)))\n",
    "print('\\nEstimated Cumulative probability:')\n",
    "print(results)"
   ]
  },
  {
   "cell_type": "code",
   "execution_count": 76,
   "metadata": {},
   "outputs": [
    {
     "name": "stdout",
     "output_type": "stream",
     "text": [
      "Rep 1: CE (train): 0.411 / CE (test): 0.4116 / LL: -102769.93 / Rho-sq: 0.41\n",
      "(No VTT recovered for 0 respondents)\n",
      "Rep 2: CE (train): 0.4132 / CE (test): 0.4133 / LL: -103294.33 / Rho-sq: 0.4\n",
      "(No VTT recovered for 0 respondents)\n",
      "Rep 3: CE (train): 0.4118 / CE (test): 0.413 / LL: -103004.33 / Rho-sq: 0.41\n",
      "(No VTT recovered for 0 respondents)\n",
      "Rep 4: CE (train): 0.4117 / CE (test): 0.4125 / LL: -102958.92 / Rho-sq: 0.41\n",
      "(No VTT recovered for 0 respondents)\n",
      "Rep 5: CE (train): 0.4118 / CE (test): 0.4126 / LL: -102987.68 / Rho-sq: 0.41\n",
      "(No VTT recovered for 0 respondents)\n",
      "Training results:\n",
      "Estimation time: 500.7326 seconds.\n",
      "Average estimation time: 100.1465 seconds.\n",
      "\n",
      "        Log-likelihood  Rho-squared\n",
      "Rep. 1  -102769.929832     0.406937\n",
      "Rep. 2  -103294.328703     0.403911\n",
      "Rep. 3  -103004.327720     0.405585\n",
      "Rep. 4  -102958.916574     0.405847\n",
      "Rep. 5  -102987.684113     0.405681\n"
     ]
    }
   ],
   "source": [
    "# Create ANN object and train\n",
    "ann = ModelANN(cfg_ann,model_arrays)\n",
    "ll_list_ann, r2_list_ann, vtt_list_ann, est_time_ann, avg_time_ann = ann.run()\n",
    "\n",
    "# Print outputs\n",
    "results = pd.DataFrame(np.c_[ll_list_ann,r2_list_ann],columns=['Log-likelihood','Rho-squared'],index=['Rep. ' + str(i+1) for i in range(len(ll_list_ann))])\n",
    "print('Training results:')\n",
    "print('Estimation time: ' + str(round(est_time_ann,4)) + ' seconds.')\n",
    "print('Average estimation time: ' + str(round(avg_time_ann,4)) + ' seconds.' + '\\n')\n",
    "print(results)"
   ]
  },
  {
   "attachments": {},
   "cell_type": "markdown",
   "metadata": {},
   "source": [
    "## Step 5: Visualising the 'VTT' distribution for each model:\n"
   ]
  },
  {
   "cell_type": "code",
   "execution_count": 77,
   "metadata": {},
   "outputs": [
    {
     "data": {
      "image/png": "[encoded data removed]",
      "text/plain": [
       "<Figure size 800x800 with 8 Axes>"
      ]
     },
     "metadata": {},
     "output_type": "display_data"
    }
   ],
   "source": [
    "# Print outputs\n",
    "import matplotlib.pyplot as plt\n",
    "from statsmodels.distributions.empirical_distribution import ECDF\n",
    "\n",
    "fig, (ax1,ax2,ax3,ax4) = plt.subplots(4,2,figsize=(10,10), dpi=80)\n",
    "\n",
    "# Plot CDF\n",
    "ax1[0].plot(lc.vtt_mid,p_lc,marker='o')\n",
    "ax1[0].set_xlim(0,5)\n",
    "ax1[0].set_ylim(0,1)\n",
    "ax1[0].set_xlabel('VTT [euro/hour]')\n",
    "ax1[0].set_ylabel('Estimated Prob.')\n",
    "ax1[0].set_title('ECDF (L. Constant)')\n",
    "\n",
    "# 1Plot histogram\n",
    "ax1[1].set_xlim(0,5)\n",
    "ax1[1].set_xlabel('VTT [euro/hour]')\n",
    "ax1[1].set_ylabel('Count')\n",
    "ax1[1].hist(vtt_lc, bins = lc.vtt_grid,edgecolor=\"white\")\n",
    "ax1[1].hist(df['vtt'].groupby(df['id']).mean(), bins = lc.vtt_grid,edgecolor=\"white\",alpha=0.5)\n",
    "ax1[1].set_title('Histogram')\n",
    "ax1[1].legend(['Pred.','True'],loc='upper left')\n",
    "\n",
    "\n",
    "# Plot CDF\n",
    "ax2[0].plot(loclogit.vtt_mid,p_loclogit,marker='o')\n",
    "ax2[0].set_xlim(0,5)\n",
    "ax2[0].set_ylim(0,1)\n",
    "ax2[0].set_xlabel('VTT [euro/hour]')\n",
    "ax2[0].set_ylabel('Estimated Prob.')\n",
    "ax2[0].set_title('ECDF (Loc. Logit)')\n",
    "\n",
    "# 2Plot histogram\n",
    "ax2[1].set_xlim(0,5)\n",
    "ax2[1].set_xlabel('VTT [euro/hour]')\n",
    "ax2[1].set_ylabel('Count')\n",
    "ax2[1].hist(vtt_loclogit, bins = loclogit.vtt_grid,edgecolor=\"white\")\n",
    "ax2[1].hist(df['vtt'].groupby(df['id']).mean(), bins = lc.vtt_grid,edgecolor=\"white\",alpha=0.5)\n",
    "ax2[1].set_title('Histogram (Loc. Logit)')\n",
    "ax2[1].legend(['Pred.','True'],loc='upper left')\n",
    "\n",
    "# Plot CDF\n",
    "ax3[0].plot(rouwendal.vtt_mid,p_rw,marker='o')\n",
    "ax3[0].set_xlim(0,5)\n",
    "ax3[0].set_ylim(0,1)\n",
    "ax3[0].set_xlabel('VTT [euro/hour]')\n",
    "ax3[0].set_ylabel('Estimated Prob.')\n",
    "ax3[0].set_title('ECDF (Rouwendal)')\n",
    "\n",
    "# 3Plot histogram\n",
    "ax3[1].set_xlim(0,5)\n",
    "ax3[1].set_xlabel('VTT [euro/hour]')\n",
    "ax3[1].set_ylabel('Count')\n",
    "ax3[1].hist(vtt_rw, bins = rouwendal.vtt_grid,edgecolor=\"white\")\n",
    "ax3[1].hist(df['vtt'].groupby(df['id']).mean(), bins = rouwendal.vtt_grid,edgecolor=\"white\",alpha=0.5)\n",
    "ax3[1].set_title('Histogram (Rouwendal)')\n",
    "ax3[1].legend(['Pred.','True'],loc='upper left')\n",
    "\n",
    "vtt_mean_ann = vtt_list_ann.mean(axis=0)\n",
    "ecdf_ann = ECDF(vtt_mean_ann)\n",
    "\n",
    "# Plot CDF\n",
    "ax4[0].plot(ecdf_ann.x,ecdf_ann.y)\n",
    "ax4[0].set_xlim(1,5)\n",
    "ax4[0].set_ylim(0,1)\n",
    "ax4[0].set_xlabel('VTT [euro/hour]')\n",
    "ax4[0].set_ylabel('Estimated Prob.')\n",
    "ax4[0].set_title('ECDF (ANN)')\n",
    "\n",
    "# 4Plot histogram\n",
    "ax4[1].set_xlim(1,5)\n",
    "ax4[1].set_xlabel('VTT [euro/hour]')\n",
    "ax4[1].set_ylabel('Count')\n",
    "ax4[1].hist(vtt_mean_ann,bins=20,edgecolor=\"white\")\n",
    "ax4[1].hist(df['vtt'].groupby(df['id']).mean(), bins = 40,edgecolor=\"white\",alpha=0.5)\n",
    "ax4[1].set_title('Histogram (ANN)')\n",
    "ax4[1].legend(['Pred.','True'],loc='upper left')\n",
    "\n",
    "plt.tight_layout()\n",
    "plt.show()"
   ]
  }
 ],
 "metadata": {
  "kernelspec": {
   "display_name": "Python 3.9.15 ('py-np4vtt-mBO9B2gJ-py3.9')",
   "language": "python",
   "name": "python3"
  },
  "language_info": {
   "codemirror_mode": {
    "name": "ipython",
    "version": 3
   },
   "file_extension": ".py",
   "mimetype": "text/x-python",
   "name": "python",
   "nbconvert_exporter": "python",
   "pygments_lexer": "ipython3",
   "version": "3.9.13"
  },
  "orig_nbformat": 4,
  "vscode": {
   "interpreter": {
    "hash": "90a00f98a139d1526ae6fe98b400e700e7f03050a36cb84ce8f70e10102e153d"
   }
  }
 },
 "nbformat": 4,
 "nbformat_minor": 2
}
