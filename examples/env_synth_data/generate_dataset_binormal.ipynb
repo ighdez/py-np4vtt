{
 "cells": [
  {
   "cell_type": "code",
   "execution_count": 1,
   "metadata": {},
   "outputs": [],
   "source": [
    "# Load modules\n",
    "from pyDOE2 import fullfact\n",
    "import numpy as np\n",
    "import pandas as pd"
   ]
  },
  {
   "cell_type": "code",
   "execution_count": 2,
   "metadata": {},
   "outputs": [],
   "source": [
    "## Create initial design matrix\n",
    "design = pd.DataFrame(fullfact([10,9,10,9]),columns=['bid1','dam1','bid2','dam2'])"
   ]
  },
  {
   "cell_type": "code",
   "execution_count": 3,
   "metadata": {},
   "outputs": [],
   "source": [
    "# Keep only choice situations where alt 1 is the 'cheap and damaging' alt, and alt 2 is the 'expensive and corrective' alt\n",
    "design = design[(design['bid1']<design['bid2']) & (design['dam1']>design['dam2'])]\n",
    "\n",
    "# Replicate the design 50000 rows\n",
    "design = design.sample(n=50000,replace=True,ignore_index=True)"
   ]
  },
  {
   "cell_type": "code",
   "execution_count": 4,
   "metadata": {},
   "outputs": [],
   "source": [
    "# Replace values\n",
    "design['bid1'] = design['bid1'].copy().replace({0:10,1:30,2:40,3:50,4:60,5:70,6:80,7:90,8:100,9:120})\n",
    "design['bid2'] = design['bid2'].copy().replace({0:10,1:30,2:40,3:50,4:60,5:70,6:80,7:90,8:100,9:120})\n",
    "\n",
    "design['dam1'] = (design['dam1'].copy() + 1 )*10\n",
    "design['dam2'] = (design['dam2'].copy() + 1 )*10"
   ]
  },
  {
   "cell_type": "code",
   "execution_count": 5,
   "metadata": {},
   "outputs": [],
   "source": [
    "bvtt = (- (design['bid2']-design['bid1']) / (design['dam2']-design['dam1'])).to_numpy()\n",
    "design['bvtt'] = bvtt"
   ]
  },
  {
   "cell_type": "code",
   "execution_count": 6,
   "metadata": {},
   "outputs": [],
   "source": [
    "# Sample the design\n",
    "# design = design.sample(n=len(design),replace=False,ignore_index=True,random_state=12345)"
   ]
  },
  {
   "cell_type": "code",
   "execution_count": 7,
   "metadata": {},
   "outputs": [],
   "source": [
    "# Set random generator\n",
    "generator = np.random.default_rng(seed=12345)"
   ]
  },
  {
   "cell_type": "code",
   "execution_count": 8,
   "metadata": {},
   "outputs": [],
   "source": [
    "# Set 'true' parameter values\n",
    "mu = 2\n",
    "\n",
    "vtt_1 = generator.normal(loc=2,scale=1,size=int(bvtt.shape[0]/10/2))\n",
    "vtt_2 = generator.normal(loc=6,scale=1,size=int(bvtt.shape[0]/10/2))\n",
    "\n",
    "vtt = np.r_[vtt_1,vtt_2]\n",
    "np.random.shuffle(vtt)\n",
    "\n",
    "vtt = np.repeat(vtt,10)\n",
    "\n",
    "e1 = generator.gumbel(size=int(bvtt.shape[0]))\n",
    "e2 = generator.gumbel(size=int(bvtt.shape[0]))"
   ]
  },
  {
   "cell_type": "code",
   "execution_count": 13,
   "metadata": {},
   "outputs": [
    {
     "data": {
      "image/png": "[encoded data removed]",
      "text/plain": [
       "<Figure size 640x480 with 1 Axes>"
      ]
     },
     "metadata": {},
     "output_type": "display_data"
    }
   ],
   "source": [
    "import matplotlib.pyplot as plt\n",
    "plt.hist(vtt,bins=100,density=True,cumulative=True)\n",
    "plt.show()"
   ]
  },
  {
   "cell_type": "code",
   "execution_count": 10,
   "metadata": {},
   "outputs": [],
   "source": [
    "# Calculate utilities and chosen alternative\n",
    "V1 = mu * bvtt\n",
    "V2 = mu * vtt\n",
    "\n",
    "U1 = V1 + e1\n",
    "U2 = V2 + e2\n",
    "\n",
    "Y = np.c_[U1,U2].argmax(axis=1) + 1"
   ]
  },
  {
   "cell_type": "code",
   "execution_count": 12,
   "metadata": {},
   "outputs": [],
   "source": [
    "design_1 = design.copy()\n",
    "design_1['choice'] = Y\n",
    "design_1['id'] = np.repeat(np.arange(int(design.shape[0])/10)+1,10)\n",
    "design_1['vtt'] = vtt\n",
    "design_1.to_csv('../../data/env_synth_binormal.csv',index=False)"
   ]
  },
  {
   "cell_type": "code",
   "execution_count": null,
   "metadata": {},
   "outputs": [],
   "source": [
    "# Compute log-likelihood and rho-squared\n",
    "dV = V2 - V1\n",
    "p = 1/(1+np.exp(-dV))\n",
    "ll_n = (Y==1) * np.log(1-p) + (Y==2) * np.log(p)\n",
    "ll = np.sum(ll_n)\n",
    "r2 = 1 - ll/(len(ll_n)*np.log(0.5))"
   ]
  },
  {
   "cell_type": "code",
   "execution_count": null,
   "metadata": {},
   "outputs": [],
   "source": [
    "print(r2)"
   ]
  }
 ],
 "metadata": {
  "kernelspec": {
   "display_name": "py-np4vtt-hHRGgedU-py3.9",
   "language": "python",
   "name": "python3"
  },
  "language_info": {
   "codemirror_mode": {
    "name": "ipython",
    "version": 3
   },
   "file_extension": ".py",
   "mimetype": "text/x-python",
   "name": "python",
   "nbconvert_exporter": "python",
   "pygments_lexer": "ipython3",
   "version": "3.9.13"
  },
  "orig_nbformat": 4
 },
 "nbformat": 4,
 "nbformat_minor": 2
}
