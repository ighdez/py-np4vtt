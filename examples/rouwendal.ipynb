{
 "cells": [
  {
   "cell_type": "markdown",
   "metadata": {},
   "source": [
    "# Using NP4VTT: Rouwendal model\n",
    "\n",
    "In this notebook, we show how to use the Rouwendal model to estimate the distribution of the Value of Travel Time (VTT) from the Norway data."
   ]
  },
  {
   "cell_type": "markdown",
   "metadata": {},
   "source": [
    "## Step 1: Load modules and data, and create arrays\n",
    "\n",
    "We first import the NP4VTT modules for creating the arrays, the Rouwendal method, and Pandas to load the dataset:"
   ]
  },
  {
   "cell_type": "code",
   "execution_count": 13,
   "metadata": {},
   "outputs": [],
   "source": [
    "import sys\n",
    "sys.path.append('../src')"
   ]
  },
  {
   "cell_type": "code",
   "execution_count": 14,
   "metadata": {},
   "outputs": [],
   "source": [
    "import pandas as pd\n",
    "\n",
    "from py_np4vtt.data_format import Vars\n",
    "from py_np4vtt.model_rouwendal import ConfigRouwendal, ModelRouwendal\n",
    "from py_np4vtt.data_import import make_modelarrays, compute_descriptives\n"
   ]
  },
  {
   "cell_type": "markdown",
   "metadata": {},
   "source": [
    "Now we read the CSV file:"
   ]
  },
  {
   "cell_type": "code",
   "execution_count": 15,
   "metadata": {},
   "outputs": [
    {
     "data": {
      "text/html": [
       "<div>\n",
       "<style scoped>\n",
       "    .dataframe tbody tr th:only-of-type {\n",
       "        vertical-align: middle;\n",
       "    }\n",
       "\n",
       "    .dataframe tbody tr th {\n",
       "        vertical-align: top;\n",
       "    }\n",
       "\n",
       "    .dataframe thead th {\n",
       "        text-align: right;\n",
       "    }\n",
       "</style>\n",
       "<table border=\"1\" class=\"dataframe\">\n",
       "  <thead>\n",
       "    <tr style=\"text-align: right;\">\n",
       "      <th></th>\n",
       "      <th>RespID</th>\n",
       "      <th>Mode</th>\n",
       "      <th>TravTime</th>\n",
       "      <th>BaseCost</th>\n",
       "      <th>Gender</th>\n",
       "      <th>AgeClass</th>\n",
       "      <th>IncClass</th>\n",
       "      <th>TravTimeClass</th>\n",
       "      <th>Purpose</th>\n",
       "      <th>CardID</th>\n",
       "      <th>...</th>\n",
       "      <th>TimeL</th>\n",
       "      <th>TimeR</th>\n",
       "      <th>Chosen</th>\n",
       "      <th>Quadrant2</th>\n",
       "      <th>Purpose2</th>\n",
       "      <th>Mode2</th>\n",
       "      <th>Income2</th>\n",
       "      <th>ExclGroup</th>\n",
       "      <th>Exclude_CDF</th>\n",
       "      <th>CS</th>\n",
       "    </tr>\n",
       "  </thead>\n",
       "  <tbody>\n",
       "    <tr>\n",
       "      <th>0</th>\n",
       "      <td>88</td>\n",
       "      <td>1</td>\n",
       "      <td>25</td>\n",
       "      <td>27</td>\n",
       "      <td>1</td>\n",
       "      <td>3</td>\n",
       "      <td>5</td>\n",
       "      <td>1</td>\n",
       "      <td>1</td>\n",
       "      <td>1</td>\n",
       "      <td>...</td>\n",
       "      <td>32</td>\n",
       "      <td>25</td>\n",
       "      <td>1</td>\n",
       "      <td>4</td>\n",
       "      <td>1</td>\n",
       "      <td>1</td>\n",
       "      <td>3</td>\n",
       "      <td>4</td>\n",
       "      <td>1</td>\n",
       "      <td>1</td>\n",
       "    </tr>\n",
       "    <tr>\n",
       "      <th>1</th>\n",
       "      <td>88</td>\n",
       "      <td>1</td>\n",
       "      <td>25</td>\n",
       "      <td>27</td>\n",
       "      <td>1</td>\n",
       "      <td>3</td>\n",
       "      <td>5</td>\n",
       "      <td>1</td>\n",
       "      <td>1</td>\n",
       "      <td>2</td>\n",
       "      <td>...</td>\n",
       "      <td>25</td>\n",
       "      <td>28</td>\n",
       "      <td>2</td>\n",
       "      <td>2</td>\n",
       "      <td>1</td>\n",
       "      <td>1</td>\n",
       "      <td>3</td>\n",
       "      <td>4</td>\n",
       "      <td>1</td>\n",
       "      <td>2</td>\n",
       "    </tr>\n",
       "    <tr>\n",
       "      <th>2</th>\n",
       "      <td>88</td>\n",
       "      <td>1</td>\n",
       "      <td>25</td>\n",
       "      <td>27</td>\n",
       "      <td>1</td>\n",
       "      <td>3</td>\n",
       "      <td>5</td>\n",
       "      <td>1</td>\n",
       "      <td>1</td>\n",
       "      <td>3</td>\n",
       "      <td>...</td>\n",
       "      <td>29</td>\n",
       "      <td>25</td>\n",
       "      <td>1</td>\n",
       "      <td>4</td>\n",
       "      <td>1</td>\n",
       "      <td>1</td>\n",
       "      <td>3</td>\n",
       "      <td>4</td>\n",
       "      <td>1</td>\n",
       "      <td>3</td>\n",
       "    </tr>\n",
       "    <tr>\n",
       "      <th>3</th>\n",
       "      <td>88</td>\n",
       "      <td>1</td>\n",
       "      <td>25</td>\n",
       "      <td>27</td>\n",
       "      <td>1</td>\n",
       "      <td>3</td>\n",
       "      <td>5</td>\n",
       "      <td>1</td>\n",
       "      <td>1</td>\n",
       "      <td>4</td>\n",
       "      <td>...</td>\n",
       "      <td>32</td>\n",
       "      <td>25</td>\n",
       "      <td>1</td>\n",
       "      <td>2</td>\n",
       "      <td>1</td>\n",
       "      <td>1</td>\n",
       "      <td>3</td>\n",
       "      <td>4</td>\n",
       "      <td>1</td>\n",
       "      <td>4</td>\n",
       "    </tr>\n",
       "    <tr>\n",
       "      <th>4</th>\n",
       "      <td>88</td>\n",
       "      <td>1</td>\n",
       "      <td>25</td>\n",
       "      <td>27</td>\n",
       "      <td>1</td>\n",
       "      <td>3</td>\n",
       "      <td>5</td>\n",
       "      <td>1</td>\n",
       "      <td>1</td>\n",
       "      <td>5</td>\n",
       "      <td>...</td>\n",
       "      <td>29</td>\n",
       "      <td>32</td>\n",
       "      <td>2</td>\n",
       "      <td>2</td>\n",
       "      <td>1</td>\n",
       "      <td>1</td>\n",
       "      <td>3</td>\n",
       "      <td>4</td>\n",
       "      <td>1</td>\n",
       "      <td>5</td>\n",
       "    </tr>\n",
       "  </tbody>\n",
       "</table>\n",
       "<p>5 rows × 22 columns</p>\n",
       "</div>"
      ],
      "text/plain": [
       "   RespID  Mode  TravTime  BaseCost  Gender  AgeClass  IncClass  \\\n",
       "0      88     1        25        27       1         3         5   \n",
       "1      88     1        25        27       1         3         5   \n",
       "2      88     1        25        27       1         3         5   \n",
       "3      88     1        25        27       1         3         5   \n",
       "4      88     1        25        27       1         3         5   \n",
       "\n",
       "   TravTimeClass  Purpose  CardID  ...  TimeL  TimeR  Chosen  Quadrant2  \\\n",
       "0              1        1       1  ...     32     25       1          4   \n",
       "1              1        1       2  ...     25     28       2          2   \n",
       "2              1        1       3  ...     29     25       1          4   \n",
       "3              1        1       4  ...     32     25       1          2   \n",
       "4              1        1       5  ...     29     32       2          2   \n",
       "\n",
       "   Purpose2  Mode2  Income2  ExclGroup  Exclude_CDF  CS  \n",
       "0         1      1        3          4            1   1  \n",
       "1         1      1        3          4            1   2  \n",
       "2         1      1        3          4            1   3  \n",
       "3         1      1        3          4            1   4  \n",
       "4         1      1        3          4            1   5  \n",
       "\n",
       "[5 rows x 22 columns]"
      ]
     },
     "execution_count": 15,
     "metadata": {},
     "output_type": "execute_result"
    }
   ],
   "source": [
    "df = pd.read_table('../data/Norway2009VTT_demodata.txt')\n",
    "df.head()"
   ]
  },
  {
   "cell_type": "markdown",
   "metadata": {},
   "source": [
    "The dataset contains 22 variables. Each row is a binary choice task. We will use:\n",
    "\n",
    "* `RespID`: ID of each respondent.\n",
    "* `Chosen`: Chosen alternative.\n",
    "* `CostL`: Travel cost of alternatives 1 [NOK]\n",
    "* `CostR`: Travel cost of alternatives 2 [NOK]\n",
    "* `TimeL`: Travel time of alternatives 1 [minutes]\n",
    "* `TimeR`: Travel time of alternatives 2 [minutes]\n",
    "\n",
    "NP4VTT detects automatically the _slow and cheap_ and _fast and expensive_ alternative, for each choice situation. If NP4VTT finds violations to those two options (e.g., a fast-cheap) alternative, it will raise an error message."
   ]
  },
  {
   "cell_type": "markdown",
   "metadata": {},
   "source": [
    "Change currency of travel time to euros and change unit of travel time to hours"
   ]
  },
  {
   "cell_type": "code",
   "execution_count": 16,
   "metadata": {},
   "outputs": [],
   "source": [
    "# Convert to euros\n",
    "NOK2euro_exchange_rate = 9\n",
    "df[['CostL','CostR']] = df[['CostL','CostR']] .div(NOK2euro_exchange_rate)\n",
    "\n",
    "# convert to hours\n",
    "df[['TimeL','TimeR']] = df[['TimeL','TimeR']] .div(60)"
   ]
  },
  {
   "cell_type": "markdown",
   "metadata": {},
   "source": [
    "Now we create a dictionary to map the required variables for NP4VTT with the variables of the dataset:"
   ]
  },
  {
   "cell_type": "code",
   "execution_count": 17,
   "metadata": {},
   "outputs": [],
   "source": [
    "columnarrays = {\n",
    "    Vars.Id: 'RespID',\n",
    "    Vars.ChosenAlt: 'Chosen',\n",
    "    Vars.Cost1: 'CostL',\n",
    "    Vars.Cost2: 'CostR',\n",
    "    Vars.Time1: 'TimeL',\n",
    "    Vars.Time2: 'TimeR',\n",
    "}"
   ]
  },
  {
   "cell_type": "markdown",
   "metadata": {},
   "source": [
    "And we create the required arrays:"
   ]
  },
  {
   "cell_type": "code",
   "execution_count": 18,
   "metadata": {},
   "outputs": [],
   "source": [
    "model_arrays = make_modelarrays(df, columnarrays)"
   ]
  },
  {
   "cell_type": "markdown",
   "metadata": {},
   "source": [
    "The function `make_modelarrays` creates six elements used by NP4VTT to estimate/train a model:\n",
    "\n",
    "* `BVTT`: Contains the Boundary VTT per choice situation, computed from costs and time.\n",
    "* `Choice`: A matrix of dummy variables that are equal to one if the respondent choose the fast-expensive alternative on each choice situation.\n",
    "* `Accepts`: Number of times a respondent chose the fast-expensive alternative.\n",
    "* `ID`: Unique identifier of each respondent.\n",
    "* `NP`: Number of respondents in the dataset.\n",
    "* `T`: Number of choice situations per respondent."
   ]
  },
  {
   "cell_type": "markdown",
   "metadata": {},
   "source": [
    "## Step 2: Compute descriptives\n",
    "\n",
    "The function `compute_descriptives` provides a small overview of the dataset characteristics:"
   ]
  },
  {
   "cell_type": "code",
   "execution_count": 19,
   "metadata": {},
   "outputs": [
    {
     "name": "stdout",
     "output_type": "stream",
     "text": [
      "Balanced panel: True\n",
      "No. individuals: 5832\n",
      "Sets per indiv.: 9\n",
      "\n",
      "Number of non-traders:\n",
      "Fast-exp. alt.: 144\n",
      "Slow-cheap alt.: 808\n",
      "\n",
      "BVTT statistics:\n",
      "Mean chosen BVTT: 10.2977\n",
      "Minimum of BVTT: 0.6667\n",
      "Maximum of BVTT: 113.5632\n"
     ]
    }
   ],
   "source": [
    "descriptives = compute_descriptives(model_arrays)\n",
    "print(descriptives)"
   ]
  },
  {
   "cell_type": "markdown",
   "metadata": {},
   "source": [
    "## Step 3: Configure the Rouwendal method\n",
    "\n",
    "The Rouwendal method requires the following parameters from the user:\n",
    "\n",
    "* `minimum`: The minimum of the VTT grid.\n",
    "* `maximum`: The maximum of the VTT grid.\n",
    "* `supportPoints`: The number of support points.\n",
    "* `startQ`: The starting value of the probability of consistent choice.\n",
    "\n",
    "The function `ConfigRouwendal` takes the configuration parameters of the Rouwendal method and creates an object that is used by the optimisation routine:\n",
    "Note that estimating this model may take several minutes, depending on the number of support points that are used."
   ]
  },
  {
   "cell_type": "code",
   "execution_count": 20,
   "metadata": {},
   "outputs": [],
   "source": [
    "config = ConfigRouwendal(minimum= 0, maximum= 100, supportPoints= 21, startQ= 0.9)"
   ]
  },
  {
   "cell_type": "markdown",
   "metadata": {},
   "source": [
    "Now, we create the Rouwendal method object that contains the configuration parameters and the data arrays."
   ]
  },
  {
   "cell_type": "code",
   "execution_count": 21,
   "metadata": {},
   "outputs": [
    {
     "name": "stdout",
     "output_type": "stream",
     "text": [
      "Created a VTT grid of 21 points between 0 and 100.\n",
      "Distance between points of the VTT grid is 5.0\n"
     ]
    }
   ],
   "source": [
    "rouwendal = ModelRouwendal(config, model_arrays)"
   ]
  },
  {
   "cell_type": "markdown",
   "metadata": {},
   "source": [
    "`ModelRouwendal` creates the following objects that can be accessed using the 'dot' notation (i.e., `ModelRouwendal.`_object_):\n",
    "\n",
    "* `vtt_grid`: VTT grid as specified in `ConfigRouwendal`\n",
    "* `vtt_mid`: VTT mid points, based in the VTT grid. The first point of the grid is zero, whereas the last point is equal to the last point of the original VTT grid."
   ]
  },
  {
   "cell_type": "code",
   "execution_count": 22,
   "metadata": {},
   "outputs": [
    {
     "data": {
      "text/plain": [
       "array([  0.,   5.,  10.,  15.,  20.,  25.,  30.,  35.,  40.,  45.,  50.,\n",
       "        55.,  60.,  65.,  70.,  75.,  80.,  85.,  90.,  95., 100.])"
      ]
     },
     "execution_count": 22,
     "metadata": {},
     "output_type": "execute_result"
    }
   ],
   "source": [
    "vtt_grid = rouwendal.vtt_grid\n",
    "vtt_grid"
   ]
  },
  {
   "cell_type": "code",
   "execution_count": 23,
   "metadata": {},
   "outputs": [
    {
     "data": {
      "text/plain": [
       "array([  0. ,   2.5,   7.5,  12.5,  17.5,  22.5,  27.5,  32.5,  37.5,\n",
       "        42.5,  47.5,  52.5,  57.5,  62.5,  67.5,  72.5,  77.5,  82.5,\n",
       "        87.5,  92.5,  97.5, 100. ])"
      ]
     },
     "execution_count": 23,
     "metadata": {},
     "output_type": "execute_result"
    }
   ],
   "source": [
    "vtt_mid = rouwendal.vtt_mid\n",
    "vtt_mid"
   ]
  },
  {
   "cell_type": "markdown",
   "metadata": {},
   "source": [
    "## Step 4: Estimate the Rouwendal method\n",
    "\n",
    "Once the Rouwendal method object is initialised, the `run` method starts the optimisation process:"
   ]
  },
  {
   "cell_type": "code",
   "execution_count": 24,
   "metadata": {},
   "outputs": [
    {
     "name": "stdout",
     "output_type": "stream",
     "text": [
      "Initial F-value: 28613.18\n",
      "Iter No. 1: F-value: 24864.68 / Step size: 0.003906 / G-norm: 3493790.125126\n",
      "Iter No. 2: F-value: 24397.54 / Step size: 0.000488 / G-norm: 1784971.860142\n",
      "Iter No. 3: F-value: 24123.82 / Step size: 0.001953 / G-norm: 720780.742583\n",
      "Iter No. 4: F-value: 24017.1 / Step size: 0.003906 / G-norm: 131882.94977\n",
      "Iter No. 5: F-value: 23861.15 / Step size: 0.007812 / G-norm: 26711.70753\n",
      "Iter No. 6: F-value: 23815.66 / Step size: 0.03125 / G-norm: 10086.871412\n",
      "Iter No. 7: F-value: 23772.9 / Step size: 0.015625 / G-norm: 5658.9929\n",
      "Iter No. 8: F-value: 23724.67 / Step size: 0.015625 / G-norm: 5498.601128\n",
      "Iter No. 9: F-value: 23693.28 / Step size: 0.003906 / G-norm: 15323.965448\n",
      "Iter No. 10: F-value: 23648.21 / Step size: 0.03125 / G-norm: 7803.891118\n",
      "Iter No. 11: F-value: 23572.56 / Step size: 0.03125 / G-norm: 9697.510901\n",
      "Iter No. 12: F-value: 23568.18 / Step size: 0.0625 / G-norm: 9934.120402\n",
      "Iter No. 13: F-value: 23540.93 / Step size: 0.015625 / G-norm: 24801.552777\n",
      "Iter No. 14: F-value: 23435.99 / Step size: 0.5 / G-norm: 1045.909174\n",
      "Iter No. 15: F-value: 23370.64 / Step size: 0.0625 / G-norm: 4029.031105\n",
      "Iter No. 16: F-value: 23334.26 / Step size: 0.5 / G-norm: 512.240015\n",
      "Iter No. 17: F-value: 23292.06 / Step size: 0.5 / G-norm: 256.289716\n",
      "Iter No. 18: F-value: 23271.65 / Step size: 1 / G-norm: 86.70856\n",
      "Iter No. 19: F-value: 23261.69 / Step size: 1 / G-norm: 18.44823\n",
      "Iter No. 20: F-value: 23259.58 / Step size: 1 / G-norm: 2.777289\n",
      "Iter No. 21: F-value: 23258.52 / Step size: 1 / G-norm: 3.417345\n",
      "Iter No. 22: F-value: 23258.02 / Step size: 1 / G-norm: 0.759346\n",
      "Iter No. 23: F-value: 23257.78 / Step size: 1 / G-norm: 0.677729\n",
      "Iter No. 24: F-value: 23257.62 / Step size: 1 / G-norm: 0.276693\n",
      "Iter No. 25: F-value: 23257.5 / Step size: 1 / G-norm: 0.237167\n",
      "Iter No. 26: F-value: 23257.43 / Step size: 1 / G-norm: 0.098283\n",
      "Iter No. 27: F-value: 23257.4 / Step size: 1 / G-norm: 0.039516\n",
      "Iter No. 28: F-value: 23257.37 / Step size: 1 / G-norm: 0.040407\n",
      "Iter No. 29: F-value: 23257.33 / Step size: 1 / G-norm: 0.055344\n",
      "Iter No. 30: F-value: 23257.3 / Step size: 1 / G-norm: 0.046136\n",
      "Iter No. 31: F-value: 23257.26 / Step size: 1 / G-norm: 0.053705\n",
      "Iter No. 32: F-value: 23257.22 / Step size: 1 / G-norm: 0.054928\n",
      "Iter No. 33: F-value: 23257.18 / Step size: 1 / G-norm: 0.046114\n",
      "Iter No. 34: F-value: 23257.12 / Step size: 1 / G-norm: 0.091808\n",
      "Iter No. 35: F-value: 23257.09 / Step size: 1 / G-norm: 0.044815\n",
      "Iter No. 36: F-value: 23257.08 / Step size: 1 / G-norm: 0.012528\n",
      "Iter No. 37: F-value: 23257.07 / Step size: 1 / G-norm: 0.022507\n",
      "Iter No. 38: F-value: 23257.06 / Step size: 1 / G-norm: 0.013169\n",
      "Iter No. 39: F-value: 23257.01 / Step size: 1 / G-norm: 0.040736\n",
      "Iter No. 40: F-value: 23257.01 / Step size: 0.007812 / G-norm: 2.476321\n",
      "Iter No. 41: F-value: 23257.01 / Step size: 0.5 / G-norm: 0.024833\n",
      "Iter No. 42: F-value: 23257.01 / Step size: 0.0 / G-norm: 0.009276\n",
      "Iter No. 43: F-value: 23256.97 / Step size: 0.0625 / G-norm: 1.632117\n",
      "Iter No. 44: F-value: 23256.9 / Step size: 1 / G-norm: 0.065014\n",
      "Iter No. 45: F-value: 23256.83 / Step size: 0.0625 / G-norm: 1.982586\n",
      "Iter No. 46: F-value: 23256.76 / Step size: 1 / G-norm: 0.131313\n",
      "Iter No. 47: F-value: 23256.72 / Step size: 1 / G-norm: 0.053359\n",
      "Iter No. 48: F-value: 23256.67 / Step size: 1 / G-norm: 0.088358\n",
      "Iter No. 49: F-value: 23256.64 / Step size: 1 / G-norm: 0.036513\n",
      "Iter No. 50: F-value: 23256.63 / Step size: 1 / G-norm: 0.02237\n",
      "Iter No. 51: F-value: 23256.62 / Step size: 1 / G-norm: 0.011056\n",
      "Iter No. 52: F-value: 23256.61 / Step size: 1 / G-norm: 0.019382\n",
      "Iter No. 53: F-value: 23256.6 / Step size: 1 / G-norm: 0.004574\n",
      "Iter No. 54: F-value: 23256.6 / Step size: 1 / G-norm: 0.00448\n",
      "Iter No. 55: F-value: 23256.6 / Step size: 1 / G-norm: 0.002592\n",
      "Iter No. 56: F-value: 23256.6 / Step size: 1 / G-norm: 0.00363\n",
      "Iter No. 57: F-value: 23256.59 / Step size: 1 / G-norm: 0.003065\n",
      "Iter No. 58: F-value: 23256.59 / Step size: 1 / G-norm: 0.002711\n",
      "Iter No. 59: F-value: 23256.59 / Step size: 1 / G-norm: 0.001311\n",
      "Iter No. 60: F-value: 23256.59 / Step size: 1 / G-norm: 0.00121\n",
      "Iter No. 61: F-value: 23256.59 / Step size: 1 / G-norm: 0.001511\n",
      "Iter No. 62: F-value: 23256.59 / Step size: 1 / G-norm: 0.001471\n",
      "Iter No. 63: F-value: 23256.59 / Step size: 1 / G-norm: 0.000883\n",
      "Iter No. 64: F-value: 23256.59 / Step size: 1 / G-norm: 0.000364\n",
      "Iter No. 65: F-value: 23256.59 / Step size: 1 / G-norm: 0.00071\n",
      "Iter No. 66: F-value: 23256.59 / Step size: 1 / G-norm: 0.001266\n",
      "Iter No. 67: F-value: 23256.58 / Step size: 1 / G-norm: 0.002202\n",
      "Iter No. 68: F-value: 23256.58 / Step size: 1 / G-norm: 0.002439\n",
      "Iter No. 69: F-value: 23256.58 / Step size: 1 / G-norm: 0.001468\n",
      "Iter No. 70: F-value: 23256.58 / Step size: 1 / G-norm: 0.000413\n",
      "Iter No. 71: F-value: 23256.58 / Step size: 1 / G-norm: 0.000233\n",
      "Iter No. 72: F-value: 23256.58 / Step size: 1 / G-norm: 0.000655\n",
      "Iter No. 73: F-value: 23256.58 / Step size: 1 / G-norm: 0.001332\n",
      "Iter No. 74: F-value: 23256.58 / Step size: 1 / G-norm: 0.002578\n",
      "Iter No. 75: F-value: 23256.57 / Step size: 1 / G-norm: 0.003644\n",
      "Iter No. 76: F-value: 23256.57 / Step size: 1 / G-norm: 0.005148\n",
      "Iter No. 77: F-value: 23256.57 / Step size: 1 / G-norm: 0.002052\n",
      "Iter No. 78: F-value: 23256.57 / Step size: 1 / G-norm: 0.000484\n",
      "Iter No. 79: F-value: 23256.57 / Step size: 1 / G-norm: 0.000204\n",
      "Iter No. 80: F-value: 23256.57 / Step size: 1 / G-norm: 0.000183\n",
      "Iter No. 81: F-value: 23256.57 / Step size: 1 / G-norm: 0.00014\n",
      "Iter No. 82: F-value: 23256.57 / Step size: 1 / G-norm: 9.6e-05\n",
      "Iter No. 83: F-value: 23256.57 / Step size: 0.5 / G-norm: 0.000499\n",
      "Iter No. 84: F-value: 23256.57 / Step size: 1 / G-norm: 0.000135\n",
      "Iter No. 85: F-value: 23256.57 / Step size: 0.5 / G-norm: 0.00191\n",
      "Iter No. 86: F-value: 23256.57 / Step size: 1 / G-norm: 0.000447\n",
      "Iter No. 87: F-value: 23256.57 / Step size: 1 / G-norm: 0.001731\n",
      "Iter No. 88: F-value: 23256.57 / Step size: 1 / G-norm: 0.000501\n",
      "Iter No. 89: F-value: 23256.57 / Step size: 1 / G-norm: 0.000578\n",
      "Iter No. 90: F-value: 23256.57 / Step size: 1 / G-norm: 0.000243\n",
      "Iter No. 91: F-value: 23256.57 / Step size: 1 / G-norm: 0.000323\n",
      "Iter No. 92: F-value: 23256.57 / Step size: 1 / G-norm: 0.000369\n",
      "Iter No. 93: F-value: 23256.56 / Step size: 1 / G-norm: 0.0011\n",
      "Iter No. 94: F-value: 23256.56 / Step size: 1 / G-norm: 0.001299\n",
      "Iter No. 95: F-value: 23256.56 / Step size: 1 / G-norm: 0.002021\n",
      "Iter No. 96: F-value: 23256.56 / Step size: 1 / G-norm: 0.001687\n",
      "Iter No. 97: F-value: 23256.56 / Step size: 1 / G-norm: 0.001798\n",
      "Iter No. 98: F-value: 23256.56 / Step size: 1 / G-norm: 0.00146\n",
      "Iter No. 99: F-value: 23256.56 / Step size: 1 / G-norm: 0.000179\n",
      "Iter No. 100: F-value: 23256.56 / Step size: 1 / G-norm: 0.000127\n",
      "Iter No. 101: F-value: 23256.56 / Step size: 1 / G-norm: 0.00026\n",
      "Iter No. 102: F-value: 23256.56 / Step size: 1 / G-norm: 0.000123\n",
      "Iter No. 103: F-value: 23256.56 / Step size: 1 / G-norm: 0.000975\n",
      "Iter No. 104: F-value: 23256.56 / Step size: 1 / G-norm: 0.000396\n",
      "Iter No. 105: F-value: 23256.56 / Step size: 1 / G-norm: 0.000329\n",
      "Iter No. 106: F-value: 23256.56 / Step size: 1 / G-norm: 0.001934\n",
      "Iter No. 107: F-value: 23256.56 / Step size: 1 / G-norm: 0.000967\n",
      "Iter No. 108: F-value: 23256.56 / Step size: 1 / G-norm: 0.00162\n",
      "Iter No. 109: F-value: 23256.55 / Step size: 1 / G-norm: 0.001759\n",
      "Iter No. 110: F-value: 23256.55 / Step size: 1 / G-norm: 0.001985\n",
      "Iter No. 111: F-value: 23256.55 / Step size: 1 / G-norm: 0.004162\n",
      "Iter No. 112: F-value: 23256.55 / Step size: 1 / G-norm: 0.002295\n",
      "Iter No. 113: F-value: 23256.55 / Step size: 1 / G-norm: 0.000982\n",
      "Iter No. 114: F-value: 23256.55 / Step size: 0.125 / G-norm: 0.089021\n",
      "Iter No. 115: F-value: 23256.55 / Step size: 1 / G-norm: 0.000549\n",
      "Iter No. 116: F-value: 23256.55 / Step size: 0.125 / G-norm: 0.000254\n",
      "Iter No. 117: F-value: 23256.55 / Step size: 0.0 / G-norm: 1.2e-05\n",
      "Iter No. 118: F-value: 23256.55 / Step size: 1 / G-norm: 1.2e-05\n",
      "Iter No. 119: F-value: 23256.55 / Step size: 1 / G-norm: 0.00011\n",
      "Iter No. 120: F-value: 23256.55 / Step size: 1 / G-norm: 0.000386\n",
      "Iter No. 121: F-value: 23256.55 / Step size: 1 / G-norm: 0.000123\n",
      "Iter No. 122: F-value: 23256.55 / Step size: 1 / G-norm: 0.000261\n",
      "Iter No. 123: F-value: 23256.55 / Step size: 0.5 / G-norm: 8.6e-05\n",
      "Iter No. 124: F-value: 23256.55 / Step size: 1 / G-norm: 2.9e-05\n",
      "Iter No. 125: F-value: 23256.55 / Step size: 1 / G-norm: 5e-06\n",
      "Iter No. 126: F-value: 23256.55 / Step size: 0.007812 / G-norm: 0.00039\n",
      "Iter No. 127: F-value: 23256.55 / Step size: 1e-06 / G-norm: 1.6e-05\n",
      "Iter No. 128: F-value: 23256.55 / Step size: 1 / G-norm: 0.0\n",
      "\n",
      "Local minimum found. G-norm below tolerance\n"
     ]
    },
    {
     "ename": "LinAlgError",
     "evalue": "Singular matrix",
     "output_type": "error",
     "traceback": [
      "\u001b[0;31m---------------------------------------------------------------------------\u001b[0m",
      "\u001b[0;31mLinAlgError\u001b[0m                               Traceback (most recent call last)",
      "\u001b[1;32m/Users/ignacio/software/py-np4vtt/examples/rouwendal.ipynb Celda 25\u001b[0m in \u001b[0;36m1\n\u001b[0;32m----> <a href='vscode-notebook-cell:/Users/ignacio/software/py-np4vtt/examples/rouwendal.ipynb#Y102sZmlsZQ%3D%3D?line=0'>1</a>\u001b[0m q_est, q_se, q_prob, x, se, p, vtt, init_ll, ll, exitflag, diff_time \u001b[39m=\u001b[39m rouwendal\u001b[39m.\u001b[39;49mrun()\n",
      "File \u001b[0;32m~/software/py-np4vtt/src/py_np4vtt/model_rouwendal.py:178\u001b[0m, in \u001b[0;36mModelRouwendal.run\u001b[0;34m(self)\u001b[0m\n\u001b[1;32m    176\u001b[0m x \u001b[39m=\u001b[39m results[\u001b[39m'\u001b[39m\u001b[39mx\u001b[39m\u001b[39m'\u001b[39m]\n\u001b[1;32m    177\u001b[0m hess \u001b[39m=\u001b[39m Hessian(ModelRouwendal\u001b[39m.\u001b[39mobjectiveFunction,method\u001b[39m=\u001b[39m\u001b[39m'\u001b[39m\u001b[39mforward\u001b[39m\u001b[39m'\u001b[39m)(x,\u001b[39mself\u001b[39m\u001b[39m.\u001b[39marrays\u001b[39m.\u001b[39mNP, \u001b[39mself\u001b[39m\u001b[39m.\u001b[39marrays\u001b[39m.\u001b[39mT, \u001b[39mself\u001b[39m\u001b[39m.\u001b[39marrays\u001b[39m.\u001b[39mBVTT, \u001b[39mself\u001b[39m\u001b[39m.\u001b[39marrays\u001b[39m.\u001b[39mChoice, \u001b[39mself\u001b[39m\u001b[39m.\u001b[39mvtt_grid)\n\u001b[0;32m--> 178\u001b[0m se \u001b[39m=\u001b[39m np\u001b[39m.\u001b[39msqrt(np\u001b[39m.\u001b[39mdiag(np\u001b[39m.\u001b[39;49mlinalg\u001b[39m.\u001b[39;49minv(hess)))\n\u001b[1;32m    179\u001b[0m ll \u001b[39m=\u001b[39m \u001b[39m-\u001b[39mresults[\u001b[39m'\u001b[39m\u001b[39mfun\u001b[39m\u001b[39m'\u001b[39m]\n\u001b[1;32m    180\u001b[0m exitflag \u001b[39m=\u001b[39m results[\u001b[39m'\u001b[39m\u001b[39mstatus\u001b[39m\u001b[39m'\u001b[39m]\n",
      "File \u001b[0;32m<__array_function__ internals>:180\u001b[0m, in \u001b[0;36minv\u001b[0;34m(*args, **kwargs)\u001b[0m\n",
      "File \u001b[0;32m~/Library/Caches/pypoetry/virtualenvs/py-np4vtt-hHRGgedU-py3.9/lib/python3.9/site-packages/numpy/linalg/linalg.py:552\u001b[0m, in \u001b[0;36minv\u001b[0;34m(a)\u001b[0m\n\u001b[1;32m    550\u001b[0m signature \u001b[39m=\u001b[39m \u001b[39m'\u001b[39m\u001b[39mD->D\u001b[39m\u001b[39m'\u001b[39m \u001b[39mif\u001b[39;00m isComplexType(t) \u001b[39melse\u001b[39;00m \u001b[39m'\u001b[39m\u001b[39md->d\u001b[39m\u001b[39m'\u001b[39m\n\u001b[1;32m    551\u001b[0m extobj \u001b[39m=\u001b[39m get_linalg_error_extobj(_raise_linalgerror_singular)\n\u001b[0;32m--> 552\u001b[0m ainv \u001b[39m=\u001b[39m _umath_linalg\u001b[39m.\u001b[39;49minv(a, signature\u001b[39m=\u001b[39;49msignature, extobj\u001b[39m=\u001b[39;49mextobj)\n\u001b[1;32m    553\u001b[0m \u001b[39mreturn\u001b[39;00m wrap(ainv\u001b[39m.\u001b[39mastype(result_t, copy\u001b[39m=\u001b[39m\u001b[39mFalse\u001b[39;00m))\n",
      "File \u001b[0;32m~/Library/Caches/pypoetry/virtualenvs/py-np4vtt-hHRGgedU-py3.9/lib/python3.9/site-packages/numpy/linalg/linalg.py:89\u001b[0m, in \u001b[0;36m_raise_linalgerror_singular\u001b[0;34m(err, flag)\u001b[0m\n\u001b[1;32m     88\u001b[0m \u001b[39mdef\u001b[39;00m \u001b[39m_raise_linalgerror_singular\u001b[39m(err, flag):\n\u001b[0;32m---> 89\u001b[0m     \u001b[39mraise\u001b[39;00m LinAlgError(\u001b[39m\"\u001b[39m\u001b[39mSingular matrix\u001b[39m\u001b[39m\"\u001b[39m)\n",
      "\u001b[0;31mLinAlgError\u001b[0m: Singular matrix"
     ]
    }
   ],
   "source": [
    "q_est, q_se, q_prob, x, se, p, vtt, init_ll, ll, exitflag, diff_time = rouwendal.run()"
   ]
  },
  {
   "attachments": {},
   "cell_type": "markdown",
   "metadata": {},
   "source": [
    "The estimated model returns the following information:\n",
    "\n",
    "* `q_prob`: The estimated probability of consistent choice.\n",
    "* `q_est`: The estimated parameter that generates the probability of consistent choice.\n",
    "* `q_se`: The standard error of the parameter of consistent choice.\n",
    "* `x:` The estimated density probabilities at each point of the VTT grid.\n",
    "* `se:` The standard errors of `x`.\n",
    "* `p`: The estimate of the cumulative probability function (CDF) of the VTT at each support point. The first point is always zero for compatibility with plots.\n",
    "* `vtt`: The estimated VTT for each respondent, based in the estimated probabilities and the VTT grid.\n",
    "* `init_ll:` Value of log-likelihood function in the initial value of `startQ`. Starting values of support point parameters are equal to zero.\n",
    "* `ll:` Value of the likelihood function in the optimum.\n",
    "* `exitflag:` Exit flag of the optimisation routine. If `exitflag=0`, the optimisation succeeded. Otherwise, check the configuration parameters (i.e., `ConfigRouwendal`)\n",
    "* `diff_time`: The estimation time in seconds.\n",
    "\n",
    "The following lines present the estimated results:"
   ]
  },
  {
   "cell_type": "code",
   "execution_count": null,
   "metadata": {},
   "outputs": [],
   "source": [
    "import numpy as np\n",
    "\n",
    "# Create dataframe\n",
    "results = pd.DataFrame(np.c_[vtt_mid,p],columns=['VTT','Cum. Prob.'],index=np.arange(len(vtt_mid)))\n",
    "\n",
    "print('Estimation results:\\n')\n",
    "print('Estimation time: ' + str(round(diff_time,4)) + ' seconds.')\n",
    "print('Final log-likelihood: ' + str(round(ll,2)))\n",
    "print('Estimated prob. of consistent choice: ' + str(round(q_prob,4)))\n",
    "print('\\nEstimated Cumulative probability:')\n",
    "print(results)"
   ]
  },
  {
   "cell_type": "markdown",
   "metadata": {},
   "source": [
    "## Step 5: Visualising the VTT distribution\n",
    "\n",
    "We create the empirical Cumulative Density Function plot of the VTT distribution. For easy interpretation, we use create a histogram from the CDF. \n",
    "We use matplotlib for this:"
   ]
  },
  {
   "cell_type": "code",
   "execution_count": null,
   "metadata": {},
   "outputs": [],
   "source": [
    "import matplotlib.pyplot as plt\n",
    "import numpy as np\n",
    "\n",
    "fig, ax = plt.subplots(1,2,figsize=(14,6), dpi=80)\n",
    "\n",
    "# Plot CDF\n",
    "ax[0].plot(vtt_mid,p,marker='o')\n",
    "ax[0].set_xlim(0,80)\n",
    "ax[0].set_ylim(0,1)\n",
    "ax[0].set_xlabel('VTT [euro/hour]')\n",
    "ax[0].set_ylabel('Estimated cumulative probability')\n",
    "\n",
    "# Plot histogram\n",
    "ax[1].set_xlim(0,80)\n",
    "ax[1].set_xlabel('VTT [euro/hour]')\n",
    "ax[1].set_ylabel('Count')\n",
    "ax[1].hist(vtt, bins = vtt_grid,edgecolor=\"white\")\n",
    "fig.suptitle('Rouwendal')\n",
    "plt.savefig('outcomes/rouwendal.png')\n",
    "plt.show()"
   ]
  }
 ],
 "metadata": {
  "kernelspec": {
   "display_name": "Python 3.9.15 ('py-np4vtt-mBO9B2gJ-py3.9')",
   "language": "python",
   "name": "python3"
  },
  "language_info": {
   "codemirror_mode": {
    "name": "ipython",
    "version": 3
   },
   "file_extension": ".py",
   "mimetype": "text/x-python",
   "name": "python",
   "nbconvert_exporter": "python",
   "pygments_lexer": "ipython3",
   "version": "3.9.13"
  },
  "orig_nbformat": 4,
  "vscode": {
   "interpreter": {
    "hash": "90a00f98a139d1526ae6fe98b400e700e7f03050a36cb84ce8f70e10102e153d"
   }
  }
 },
 "nbformat": 4,
 "nbformat_minor": 2
}
