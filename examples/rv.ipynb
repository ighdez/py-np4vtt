{
 "cells": [
  {
   "cell_type": "markdown",
   "metadata": {},
   "source": [
    "# Using NP4VTT: Random valuation (RV) model\n",
    "\n",
    "In this notebook, we show how to use a RV model to estimate the distribution of the Value of Travel Time (VTT) from the Norway data."
   ]
  },
  {
   "cell_type": "markdown",
   "metadata": {},
   "source": [
    "## Step 1: Load modules and data, and create arrays\n",
    "\n",
    "We first import the NP4VTT modules for creating the arrays, the RV model, and Pandas to load the dataset:"
   ]
  },
  {
   "cell_type": "code",
   "execution_count": 1,
   "metadata": {},
   "outputs": [],
   "source": [
    "import pandas as pd\n",
    "\n",
    "from py_np4vtt.data_format import Vars\n",
    "from py_np4vtt.model_rv import ModelRV, ConfigRV\n",
    "from py_np4vtt.data_import import make_modelarrays, compute_descriptives\n"
   ]
  },
  {
   "cell_type": "markdown",
   "metadata": {},
   "source": [
    "Now we read the CSV file:"
   ]
  },
  {
   "cell_type": "code",
   "execution_count": 2,
   "metadata": {},
   "outputs": [
    {
     "data": {
      "text/html": [
       "<div>\n",
       "<style scoped>\n",
       "    .dataframe tbody tr th:only-of-type {\n",
       "        vertical-align: middle;\n",
       "    }\n",
       "\n",
       "    .dataframe tbody tr th {\n",
       "        vertical-align: top;\n",
       "    }\n",
       "\n",
       "    .dataframe thead th {\n",
       "        text-align: right;\n",
       "    }\n",
       "</style>\n",
       "<table border=\"1\" class=\"dataframe\">\n",
       "  <thead>\n",
       "    <tr style=\"text-align: right;\">\n",
       "      <th></th>\n",
       "      <th>RespID</th>\n",
       "      <th>Mode</th>\n",
       "      <th>TravTime</th>\n",
       "      <th>BaseCost</th>\n",
       "      <th>Gender</th>\n",
       "      <th>AgeClass</th>\n",
       "      <th>IncClass</th>\n",
       "      <th>TravTimeClass</th>\n",
       "      <th>Purpose</th>\n",
       "      <th>CardID</th>\n",
       "      <th>...</th>\n",
       "      <th>TimeL</th>\n",
       "      <th>TimeR</th>\n",
       "      <th>Chosen</th>\n",
       "      <th>Quadrant2</th>\n",
       "      <th>Purpose2</th>\n",
       "      <th>Mode2</th>\n",
       "      <th>Income2</th>\n",
       "      <th>ExclGroup</th>\n",
       "      <th>Exclude_CDF</th>\n",
       "      <th>CS</th>\n",
       "    </tr>\n",
       "  </thead>\n",
       "  <tbody>\n",
       "    <tr>\n",
       "      <th>0</th>\n",
       "      <td>88</td>\n",
       "      <td>1</td>\n",
       "      <td>25</td>\n",
       "      <td>27</td>\n",
       "      <td>1</td>\n",
       "      <td>3</td>\n",
       "      <td>5</td>\n",
       "      <td>1</td>\n",
       "      <td>1</td>\n",
       "      <td>1</td>\n",
       "      <td>...</td>\n",
       "      <td>32</td>\n",
       "      <td>25</td>\n",
       "      <td>1</td>\n",
       "      <td>4</td>\n",
       "      <td>1</td>\n",
       "      <td>1</td>\n",
       "      <td>3</td>\n",
       "      <td>4</td>\n",
       "      <td>1</td>\n",
       "      <td>1</td>\n",
       "    </tr>\n",
       "    <tr>\n",
       "      <th>1</th>\n",
       "      <td>88</td>\n",
       "      <td>1</td>\n",
       "      <td>25</td>\n",
       "      <td>27</td>\n",
       "      <td>1</td>\n",
       "      <td>3</td>\n",
       "      <td>5</td>\n",
       "      <td>1</td>\n",
       "      <td>1</td>\n",
       "      <td>2</td>\n",
       "      <td>...</td>\n",
       "      <td>25</td>\n",
       "      <td>28</td>\n",
       "      <td>2</td>\n",
       "      <td>2</td>\n",
       "      <td>1</td>\n",
       "      <td>1</td>\n",
       "      <td>3</td>\n",
       "      <td>4</td>\n",
       "      <td>1</td>\n",
       "      <td>2</td>\n",
       "    </tr>\n",
       "    <tr>\n",
       "      <th>2</th>\n",
       "      <td>88</td>\n",
       "      <td>1</td>\n",
       "      <td>25</td>\n",
       "      <td>27</td>\n",
       "      <td>1</td>\n",
       "      <td>3</td>\n",
       "      <td>5</td>\n",
       "      <td>1</td>\n",
       "      <td>1</td>\n",
       "      <td>3</td>\n",
       "      <td>...</td>\n",
       "      <td>29</td>\n",
       "      <td>25</td>\n",
       "      <td>1</td>\n",
       "      <td>4</td>\n",
       "      <td>1</td>\n",
       "      <td>1</td>\n",
       "      <td>3</td>\n",
       "      <td>4</td>\n",
       "      <td>1</td>\n",
       "      <td>3</td>\n",
       "    </tr>\n",
       "    <tr>\n",
       "      <th>3</th>\n",
       "      <td>88</td>\n",
       "      <td>1</td>\n",
       "      <td>25</td>\n",
       "      <td>27</td>\n",
       "      <td>1</td>\n",
       "      <td>3</td>\n",
       "      <td>5</td>\n",
       "      <td>1</td>\n",
       "      <td>1</td>\n",
       "      <td>4</td>\n",
       "      <td>...</td>\n",
       "      <td>32</td>\n",
       "      <td>25</td>\n",
       "      <td>1</td>\n",
       "      <td>2</td>\n",
       "      <td>1</td>\n",
       "      <td>1</td>\n",
       "      <td>3</td>\n",
       "      <td>4</td>\n",
       "      <td>1</td>\n",
       "      <td>4</td>\n",
       "    </tr>\n",
       "    <tr>\n",
       "      <th>4</th>\n",
       "      <td>88</td>\n",
       "      <td>1</td>\n",
       "      <td>25</td>\n",
       "      <td>27</td>\n",
       "      <td>1</td>\n",
       "      <td>3</td>\n",
       "      <td>5</td>\n",
       "      <td>1</td>\n",
       "      <td>1</td>\n",
       "      <td>5</td>\n",
       "      <td>...</td>\n",
       "      <td>29</td>\n",
       "      <td>32</td>\n",
       "      <td>2</td>\n",
       "      <td>2</td>\n",
       "      <td>1</td>\n",
       "      <td>1</td>\n",
       "      <td>3</td>\n",
       "      <td>4</td>\n",
       "      <td>1</td>\n",
       "      <td>5</td>\n",
       "    </tr>\n",
       "  </tbody>\n",
       "</table>\n",
       "<p>5 rows × 22 columns</p>\n",
       "</div>"
      ],
      "text/plain": [
       "   RespID  Mode  TravTime  BaseCost  Gender  AgeClass  IncClass  \\\n",
       "0      88     1        25        27       1         3         5   \n",
       "1      88     1        25        27       1         3         5   \n",
       "2      88     1        25        27       1         3         5   \n",
       "3      88     1        25        27       1         3         5   \n",
       "4      88     1        25        27       1         3         5   \n",
       "\n",
       "   TravTimeClass  Purpose  CardID  ...  TimeL  TimeR  Chosen  Quadrant2  \\\n",
       "0              1        1       1  ...     32     25       1          4   \n",
       "1              1        1       2  ...     25     28       2          2   \n",
       "2              1        1       3  ...     29     25       1          4   \n",
       "3              1        1       4  ...     32     25       1          2   \n",
       "4              1        1       5  ...     29     32       2          2   \n",
       "\n",
       "   Purpose2  Mode2  Income2  ExclGroup  Exclude_CDF  CS  \n",
       "0         1      1        3          4            1   1  \n",
       "1         1      1        3          4            1   2  \n",
       "2         1      1        3          4            1   3  \n",
       "3         1      1        3          4            1   4  \n",
       "4         1      1        3          4            1   5  \n",
       "\n",
       "[5 rows x 22 columns]"
      ]
     },
     "execution_count": 2,
     "metadata": {},
     "output_type": "execute_result"
    }
   ],
   "source": [
    "df = pd.read_table('../data/Norway09_data_v5.txt')\n",
    "df.head()"
   ]
  },
  {
   "cell_type": "markdown",
   "metadata": {},
   "source": [
    "The dataset contains 22 variables. Each row is a binary choice task. We will use:\n",
    "\n",
    "* `RespID`: ID of each respondent.\n",
    "* `Chosen`: Chosen alternative.\n",
    "* `CostL` and `CostR`: Travel cost of alternatives 1 and 2, respectively.\n",
    "* `TimeL` and `TimeR`: Travel time of alternatives 1 and 2, respectively.\n",
    "\n",
    "NP4VTT detects automatically the _slow-cheap_ and _fast-expensive_ alternative, for each choice situation. If NP4VTT finds violations to those two options (e.g., a fast-cheap) alternative, it will raise an error message.\n",
    "\n",
    "Now we create a dictionary to map the required variables for NP4VTT with the variables of the dataset:"
   ]
  },
  {
   "cell_type": "markdown",
   "metadata": {},
   "source": [
    "Change currency of travel time to euros and change unit of travel time to hours"
   ]
  },
  {
   "cell_type": "code",
   "execution_count": 3,
   "metadata": {},
   "outputs": [],
   "source": [
    "# Convert to euros\n",
    "NOK2euro_exchange_rate = 9\n",
    "df[['CostL','CostR']] = df[['CostL','CostR']] .div(NOK2euro_exchange_rate)\n",
    "\n",
    "# convert to hours\n",
    "df[['TimeL','TimeR']] = df[['TimeL','TimeR']] .div(60)"
   ]
  },
  {
   "cell_type": "markdown",
   "metadata": {},
   "source": [
    "Now we create a dictionary to map the required variables for NP4VTT with the variables of the dataset:"
   ]
  },
  {
   "cell_type": "code",
   "execution_count": 4,
   "metadata": {},
   "outputs": [],
   "source": [
    "columnarrays = {\n",
    "    Vars.Id: 'RespID',\n",
    "    Vars.ChosenAlt: 'Chosen',\n",
    "    Vars.Cost1: 'CostL',\n",
    "    Vars.Cost2: 'CostR',\n",
    "    Vars.Time1: 'TimeL',\n",
    "    Vars.Time2: 'TimeR',\n",
    "}"
   ]
  },
  {
   "cell_type": "markdown",
   "metadata": {},
   "source": [
    "And we create the required arrays:"
   ]
  },
  {
   "cell_type": "code",
   "execution_count": 5,
   "metadata": {},
   "outputs": [],
   "source": [
    "model_arrays = make_modelarrays(df, columnarrays)"
   ]
  },
  {
   "cell_type": "markdown",
   "metadata": {},
   "source": [
    "The function `make_modelarrays` creates six elements used by NP4VTT to estimate/train a model:\n",
    "\n",
    "* `BVTT`: Contains the Boundary VTT per choice situation, computed from costs and time.\n",
    "* `Choice`: A matrix of dummy variables that are equal to one if the respondent choose the fast-expensive alternative on each choice situation.\n",
    "* `Accepts`: Number of times a respondent chose the fast-expensive alternative.\n",
    "* `ID`: Unique identifier of each respondent.\n",
    "* `NP`: Number of respondents in the dataset.\n",
    "* `T`: Number of choice situations per respondent."
   ]
  },
  {
   "cell_type": "markdown",
   "metadata": {},
   "source": [
    "## Step 2: Compute descriptives\n",
    "\n",
    "The function `compute_descriptives` provides a small overview of the dataset characteristics:"
   ]
  },
  {
   "cell_type": "code",
   "execution_count": 6,
   "metadata": {},
   "outputs": [
    {
     "name": "stdout",
     "output_type": "stream",
     "text": [
      "No. individuals: 5832\n",
      "Sets per indiv.: 9\n",
      "\n",
      "Number of non-traders:\n",
      "Fast-exp. alt.: 144\n",
      "Slow-cheap alt.: 808\n",
      "\n",
      "BVTT statistics:\n",
      "Mean chosen BVTT: 10.2977\n",
      "Minimum of BVTT: 0.6667\n",
      "Maximum of BVTT: 113.5632\n"
     ]
    }
   ],
   "source": [
    "descriptives = compute_descriptives(model_arrays)\n",
    "print(descriptives)"
   ]
  },
  {
   "cell_type": "markdown",
   "metadata": {},
   "source": [
    "## Step 3: Configure a RV model\n",
    "\n",
    "The RV model requires the following parameters from the user:\n",
    "\n",
    "* `minimum`: The minimum of the VTT grid.\n",
    "* `maximum`: The maximum of the VTT grid.\n",
    "* `supportPoints`: The number of support points.\n",
    "* `startScale`: The starting value of the scale parameter.\n",
    "* `startVTT`: The starting value of the VTT parameter.\n",
    "* `maxIterations:` Maximum iterations of the maximum likelihood estimation routine.\n",
    "\n",
    "\n",
    "The function `ConfigRV` takes the configuration parameters of the RV and creates an object that is used by the optimisation routine:"
   ]
  },
  {
   "cell_type": "code",
   "execution_count": 7,
   "metadata": {},
   "outputs": [],
   "source": [
    "config = ConfigRV(minimum=0, maximum=100, supportPoints=100, startScale=0, startVTT=1, maxIterations=10000)"
   ]
  },
  {
   "cell_type": "markdown",
   "metadata": {},
   "source": [
    "Now, we create the RV model object that contains the configuration parameters and the data arrays. Then, we initialise the arguments and the initial value of the likelihood function:"
   ]
  },
  {
   "cell_type": "code",
   "execution_count": 8,
   "metadata": {},
   "outputs": [],
   "source": [
    "rv = ModelRV(config, model_arrays)"
   ]
  },
  {
   "cell_type": "markdown",
   "metadata": {},
   "source": [
    "`ModelRV` creates the VTT grid as specified in `ConfigRV` and can be accessed using the 'dot' notation (i.e., `ModelRV.vtt_grid`)"
   ]
  },
  {
   "cell_type": "code",
   "execution_count": 9,
   "metadata": {},
   "outputs": [
    {
     "data": {
      "text/plain": [
       "array([  0.        ,   1.01010101,   2.02020202,   3.03030303,\n",
       "         4.04040404,   5.05050505,   6.06060606,   7.07070707,\n",
       "         8.08080808,   9.09090909,  10.1010101 ,  11.11111111,\n",
       "        12.12121212,  13.13131313,  14.14141414,  15.15151515,\n",
       "        16.16161616,  17.17171717,  18.18181818,  19.19191919,\n",
       "        20.2020202 ,  21.21212121,  22.22222222,  23.23232323,\n",
       "        24.24242424,  25.25252525,  26.26262626,  27.27272727,\n",
       "        28.28282828,  29.29292929,  30.3030303 ,  31.31313131,\n",
       "        32.32323232,  33.33333333,  34.34343434,  35.35353535,\n",
       "        36.36363636,  37.37373737,  38.38383838,  39.39393939,\n",
       "        40.4040404 ,  41.41414141,  42.42424242,  43.43434343,\n",
       "        44.44444444,  45.45454545,  46.46464646,  47.47474747,\n",
       "        48.48484848,  49.49494949,  50.50505051,  51.51515152,\n",
       "        52.52525253,  53.53535354,  54.54545455,  55.55555556,\n",
       "        56.56565657,  57.57575758,  58.58585859,  59.5959596 ,\n",
       "        60.60606061,  61.61616162,  62.62626263,  63.63636364,\n",
       "        64.64646465,  65.65656566,  66.66666667,  67.67676768,\n",
       "        68.68686869,  69.6969697 ,  70.70707071,  71.71717172,\n",
       "        72.72727273,  73.73737374,  74.74747475,  75.75757576,\n",
       "        76.76767677,  77.77777778,  78.78787879,  79.7979798 ,\n",
       "        80.80808081,  81.81818182,  82.82828283,  83.83838384,\n",
       "        84.84848485,  85.85858586,  86.86868687,  87.87878788,\n",
       "        88.88888889,  89.8989899 ,  90.90909091,  91.91919192,\n",
       "        92.92929293,  93.93939394,  94.94949495,  95.95959596,\n",
       "        96.96969697,  97.97979798,  98.98989899, 100.        ])"
      ]
     },
     "execution_count": 9,
     "metadata": {},
     "output_type": "execute_result"
    }
   ],
   "source": [
    "vtt_grid = rv.vtt_grid\n",
    "vtt_grid"
   ]
  },
  {
   "cell_type": "markdown",
   "metadata": {},
   "source": [
    "## Step 4: Estimate a RV model\n",
    "\n",
    "Once the RV is initialised, the `run` method starts the optimisation process:"
   ]
  },
  {
   "cell_type": "code",
   "execution_count": 10,
   "metadata": {},
   "outputs": [],
   "source": [
    "x, se, p, init_ll, ll, exitflag = rv.run()"
   ]
  },
  {
   "cell_type": "markdown",
   "metadata": {},
   "source": [
    "The estimated model returns the following information:\n",
    "\n",
    "* `x:` The estimated parameters for the intercept, the VTT parameter, and the scale.\n",
    "* `se:` The standard error of the estimated parameters.\n",
    "* `p`: Choice probabilities evaluated at each point of the VTT grid.\n",
    "* `init_ll:` Value of the likelihood function evaluated in the starting values.\n",
    "* `ll:` Value of the likelihood function in the optimum.\n",
    "* `exitflag:` Exit flag of the optimisation routine. If `exitflag=0` the optimisation routine succeeded.\n",
    "\n",
    "The following lines present the estimated results:"
   ]
  },
  {
   "cell_type": "code",
   "execution_count": 11,
   "metadata": {},
   "outputs": [
    {
     "name": "stdout",
     "output_type": "stream",
     "text": [
      "Estimation results:\n",
      "\n",
      "Initial log-likelihood: -36381.91\n",
      "Final log-likelihood: -28558.24\n",
      "Estimates:\n",
      "       Estimate   Std.Err\n",
      "Scale  0.084008  0.001039\n",
      "VTT    7.958185  0.133105\n"
     ]
    }
   ],
   "source": [
    "import numpy as np\n",
    "\n",
    "# Create dataframe\n",
    "results = pd.DataFrame(np.c_[x,se],columns=['Estimate','Std.Err'],index=['Scale','VTT'])\n",
    "\n",
    "print('Estimation results:\\n')\n",
    "print('Initial log-likelihood: ' + str(round(init_ll,2)))\n",
    "print('Final log-likelihood: ' + str(round(ll,2)))\n",
    "print('Estimates:')\n",
    "print(results)"
   ]
  },
  {
   "cell_type": "markdown",
   "metadata": {},
   "source": [
    "The mean VTT is directly interpretable from the `VTT` estimated parameter of the RV model."
   ]
  }
 ],
 "metadata": {
  "kernelspec": {
   "display_name": "Python 3.9.13 ('py-np4vtt-_3HSX0EX-py3.9')",
   "language": "python",
   "name": "python3"
  },
  "language_info": {
   "codemirror_mode": {
    "name": "ipython",
    "version": 3
   },
   "file_extension": ".py",
   "mimetype": "text/x-python",
   "name": "python",
   "nbconvert_exporter": "python",
   "pygments_lexer": "ipython3",
   "version": "3.9.13"
  },
  "orig_nbformat": 4,
  "vscode": {
   "interpreter": {
    "hash": "12e2e5654af34ac772189d84303704e4bc05b99c06cafe2bedee12e2ed094722"
   }
  }
 },
 "nbformat": 4,
 "nbformat_minor": 2
}
