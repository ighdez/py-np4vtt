{
 "cells": [
  {
   "cell_type": "markdown",
   "metadata": {},
   "source": [
    "# Using NP4VTT: ANN-based VTT model\n",
    "\n",
    "In this notebook, we show how to use an Artificial Neural Network (ANN) based method to estimate the distribution of the Value of Travel Time (VTT) from the Norway data."
   ]
  },
  {
   "cell_type": "markdown",
   "metadata": {},
   "source": [
    "## Step 1: Load modules and data, and create arrays\n",
    "\n",
    "We first import the NP4VTT modules for creating the arrays, the ANN, and Pandas to load the dataset:"
   ]
  },
  {
   "cell_type": "code",
   "execution_count": 1,
   "metadata": {},
   "outputs": [],
   "source": [
    "import sys\n",
    "sys.path.append('../src')"
   ]
  },
  {
   "cell_type": "code",
   "execution_count": 2,
   "metadata": {},
   "outputs": [],
   "source": [
    "import pandas as pd\n",
    "\n",
    "from py_np4vtt.data_format import Vars\n",
    "from py_np4vtt.model_ann import ModelANN, ConfigANN\n",
    "from py_np4vtt.data_import import make_modelarrays, compute_descriptives\n"
   ]
  },
  {
   "cell_type": "markdown",
   "metadata": {},
   "source": [
    "Now we read the CSV file:"
   ]
  },
  {
   "cell_type": "code",
   "execution_count": 3,
   "metadata": {},
   "outputs": [
    {
     "data": {
      "text/html": [
       "<div>\n",
       "<style scoped>\n",
       "    .dataframe tbody tr th:only-of-type {\n",
       "        vertical-align: middle;\n",
       "    }\n",
       "\n",
       "    .dataframe tbody tr th {\n",
       "        vertical-align: top;\n",
       "    }\n",
       "\n",
       "    .dataframe thead th {\n",
       "        text-align: right;\n",
       "    }\n",
       "</style>\n",
       "<table border=\"1\" class=\"dataframe\">\n",
       "  <thead>\n",
       "    <tr style=\"text-align: right;\">\n",
       "      <th></th>\n",
       "      <th>RespID</th>\n",
       "      <th>Mode</th>\n",
       "      <th>TravTime</th>\n",
       "      <th>BaseCost</th>\n",
       "      <th>Gender</th>\n",
       "      <th>AgeClass</th>\n",
       "      <th>IncClass</th>\n",
       "      <th>TravTimeClass</th>\n",
       "      <th>Purpose</th>\n",
       "      <th>CardID</th>\n",
       "      <th>...</th>\n",
       "      <th>TimeL</th>\n",
       "      <th>TimeR</th>\n",
       "      <th>Chosen</th>\n",
       "      <th>Quadrant2</th>\n",
       "      <th>Purpose2</th>\n",
       "      <th>Mode2</th>\n",
       "      <th>Income2</th>\n",
       "      <th>ExclGroup</th>\n",
       "      <th>Exclude_CDF</th>\n",
       "      <th>CS</th>\n",
       "    </tr>\n",
       "  </thead>\n",
       "  <tbody>\n",
       "    <tr>\n",
       "      <th>0</th>\n",
       "      <td>88</td>\n",
       "      <td>1</td>\n",
       "      <td>25</td>\n",
       "      <td>27</td>\n",
       "      <td>1</td>\n",
       "      <td>3</td>\n",
       "      <td>5</td>\n",
       "      <td>1</td>\n",
       "      <td>1</td>\n",
       "      <td>1</td>\n",
       "      <td>...</td>\n",
       "      <td>32</td>\n",
       "      <td>25</td>\n",
       "      <td>1</td>\n",
       "      <td>4</td>\n",
       "      <td>1</td>\n",
       "      <td>1</td>\n",
       "      <td>3</td>\n",
       "      <td>4</td>\n",
       "      <td>1</td>\n",
       "      <td>1</td>\n",
       "    </tr>\n",
       "    <tr>\n",
       "      <th>1</th>\n",
       "      <td>88</td>\n",
       "      <td>1</td>\n",
       "      <td>25</td>\n",
       "      <td>27</td>\n",
       "      <td>1</td>\n",
       "      <td>3</td>\n",
       "      <td>5</td>\n",
       "      <td>1</td>\n",
       "      <td>1</td>\n",
       "      <td>2</td>\n",
       "      <td>...</td>\n",
       "      <td>25</td>\n",
       "      <td>28</td>\n",
       "      <td>2</td>\n",
       "      <td>2</td>\n",
       "      <td>1</td>\n",
       "      <td>1</td>\n",
       "      <td>3</td>\n",
       "      <td>4</td>\n",
       "      <td>1</td>\n",
       "      <td>2</td>\n",
       "    </tr>\n",
       "    <tr>\n",
       "      <th>2</th>\n",
       "      <td>88</td>\n",
       "      <td>1</td>\n",
       "      <td>25</td>\n",
       "      <td>27</td>\n",
       "      <td>1</td>\n",
       "      <td>3</td>\n",
       "      <td>5</td>\n",
       "      <td>1</td>\n",
       "      <td>1</td>\n",
       "      <td>3</td>\n",
       "      <td>...</td>\n",
       "      <td>29</td>\n",
       "      <td>25</td>\n",
       "      <td>1</td>\n",
       "      <td>4</td>\n",
       "      <td>1</td>\n",
       "      <td>1</td>\n",
       "      <td>3</td>\n",
       "      <td>4</td>\n",
       "      <td>1</td>\n",
       "      <td>3</td>\n",
       "    </tr>\n",
       "    <tr>\n",
       "      <th>3</th>\n",
       "      <td>88</td>\n",
       "      <td>1</td>\n",
       "      <td>25</td>\n",
       "      <td>27</td>\n",
       "      <td>1</td>\n",
       "      <td>3</td>\n",
       "      <td>5</td>\n",
       "      <td>1</td>\n",
       "      <td>1</td>\n",
       "      <td>4</td>\n",
       "      <td>...</td>\n",
       "      <td>32</td>\n",
       "      <td>25</td>\n",
       "      <td>1</td>\n",
       "      <td>2</td>\n",
       "      <td>1</td>\n",
       "      <td>1</td>\n",
       "      <td>3</td>\n",
       "      <td>4</td>\n",
       "      <td>1</td>\n",
       "      <td>4</td>\n",
       "    </tr>\n",
       "    <tr>\n",
       "      <th>4</th>\n",
       "      <td>88</td>\n",
       "      <td>1</td>\n",
       "      <td>25</td>\n",
       "      <td>27</td>\n",
       "      <td>1</td>\n",
       "      <td>3</td>\n",
       "      <td>5</td>\n",
       "      <td>1</td>\n",
       "      <td>1</td>\n",
       "      <td>5</td>\n",
       "      <td>...</td>\n",
       "      <td>29</td>\n",
       "      <td>32</td>\n",
       "      <td>2</td>\n",
       "      <td>2</td>\n",
       "      <td>1</td>\n",
       "      <td>1</td>\n",
       "      <td>3</td>\n",
       "      <td>4</td>\n",
       "      <td>1</td>\n",
       "      <td>5</td>\n",
       "    </tr>\n",
       "  </tbody>\n",
       "</table>\n",
       "<p>5 rows × 22 columns</p>\n",
       "</div>"
      ],
      "text/plain": [
       "   RespID  Mode  TravTime  BaseCost  Gender  AgeClass  IncClass  \\\n",
       "0      88     1        25        27       1         3         5   \n",
       "1      88     1        25        27       1         3         5   \n",
       "2      88     1        25        27       1         3         5   \n",
       "3      88     1        25        27       1         3         5   \n",
       "4      88     1        25        27       1         3         5   \n",
       "\n",
       "   TravTimeClass  Purpose  CardID  ...  TimeL  TimeR  Chosen  Quadrant2  \\\n",
       "0              1        1       1  ...     32     25       1          4   \n",
       "1              1        1       2  ...     25     28       2          2   \n",
       "2              1        1       3  ...     29     25       1          4   \n",
       "3              1        1       4  ...     32     25       1          2   \n",
       "4              1        1       5  ...     29     32       2          2   \n",
       "\n",
       "   Purpose2  Mode2  Income2  ExclGroup  Exclude_CDF  CS  \n",
       "0         1      1        3          4            1   1  \n",
       "1         1      1        3          4            1   2  \n",
       "2         1      1        3          4            1   3  \n",
       "3         1      1        3          4            1   4  \n",
       "4         1      1        3          4            1   5  \n",
       "\n",
       "[5 rows x 22 columns]"
      ]
     },
     "execution_count": 3,
     "metadata": {},
     "output_type": "execute_result"
    }
   ],
   "source": [
    "df = pd.read_table('../data/Norway2009VTT_demodata.txt')\n",
    "df.head()"
   ]
  },
  {
   "cell_type": "markdown",
   "metadata": {},
   "source": [
    "The dataset contains 22 variables. Each row is a binary choice task. We will use:\n",
    "\n",
    "* `RespID`: ID of each respondent.\n",
    "* `Chosen`: Chosen alternative.\n",
    "* `CostL`: Travel cost of alternatives 1 [NOK]\n",
    "* `CostR`: Travel cost of alternatives 2 [NOK]\n",
    "* `TimeL`: Travel time of alternatives 1 [minutes]\n",
    "* `TimeR`: Travel time of alternatives 2 [minutes]\n",
    "\n",
    "NP4VTT detects automatically the _slow and cheap_ and _fast and expensive_ alternative, for each choice situation. If NP4VTT finds violations to those two options (e.g., a fast-cheap) alternative, it will raise an error message."
   ]
  },
  {
   "cell_type": "markdown",
   "metadata": {},
   "source": [
    "Change currency of travel time to euros and change unit of travel time to hours"
   ]
  },
  {
   "cell_type": "code",
   "execution_count": 4,
   "metadata": {},
   "outputs": [],
   "source": [
    "# Convert to euros\n",
    "NOK2euro_exchange_rate = 9\n",
    "df[['CostL','CostR']] = df[['CostL','CostR']] .div(NOK2euro_exchange_rate)\n",
    "\n",
    "# convert to hours\n",
    "df[['TimeL','TimeR']] = df[['TimeL','TimeR']] .div(60)"
   ]
  },
  {
   "cell_type": "code",
   "execution_count": 5,
   "metadata": {},
   "outputs": [],
   "source": [
    "columnarrays = {\n",
    "    Vars.Id: 'RespID',\n",
    "    Vars.ChosenAlt: 'Chosen',\n",
    "    Vars.Cost1: 'CostL',\n",
    "    Vars.Cost2: 'CostR',\n",
    "    Vars.Time1: 'TimeL',\n",
    "    Vars.Time2: 'TimeR',\n",
    "}"
   ]
  },
  {
   "cell_type": "markdown",
   "metadata": {},
   "source": [
    "And we create the required arrays:"
   ]
  },
  {
   "cell_type": "code",
   "execution_count": 6,
   "metadata": {},
   "outputs": [],
   "source": [
    "model_arrays = make_modelarrays(df, columnarrays)"
   ]
  },
  {
   "cell_type": "markdown",
   "metadata": {},
   "source": [
    "The function `make_modelarrays` creates six elements used by NP4VTT to estimate/train a model: RIGHT\n",
    "\n",
    "* `BVTT`: Contains the Boundary VTT per choice situation, computed from costs and time.\n",
    "* `Choice`: A matrix of dummy variables that are equal to one if the respondent choose the fast-expensive alternative on each choice situation.\n",
    "* `Accepts`: Number of times a respondent chose the fast-expensive alternative.\n",
    "* `ID`: Unique identifier of each respondent.\n",
    "* `NP`: Number of respondents in the dataset.\n",
    "* `T`: Number of choice situations per respondent."
   ]
  },
  {
   "cell_type": "markdown",
   "metadata": {},
   "source": [
    "## Step 2: Compute descriptives\n",
    "\n",
    "The function `compute_descriptives` provides a small overview of the dataset characteristics:"
   ]
  },
  {
   "cell_type": "code",
   "execution_count": 7,
   "metadata": {},
   "outputs": [
    {
     "name": "stdout",
     "output_type": "stream",
     "text": [
      "No. individuals: 5832\n",
      "Sets per indiv.: 9\n",
      "\n",
      "Number of non-traders:\n",
      "Fast-exp. alt.: 144\n",
      "Slow-cheap alt.: 808\n",
      "\n",
      "BVTT statistics:\n",
      "Mean chosen BVTT: 10.2977\n",
      "Minimum of BVTT: 0.6667\n",
      "Maximum of BVTT: 113.5632\n"
     ]
    }
   ],
   "source": [
    "descriptives = compute_descriptives(model_arrays)\n",
    "print(descriptives)"
   ]
  },
  {
   "cell_type": "markdown",
   "metadata": {},
   "source": [
    "## Step 3: Configure an ANN\n",
    "\n",
    "The ANN requires the following parameters from the user:\n",
    "\n",
    "* `hiddenLayerNodes`: A list of length equal to the number of hidden layers. Each element is the number of hidden nodes of each hidden layer.\n",
    "* `trainingRepeats`: Number of training repeats\n",
    "* `shufflesPerRepeat`: Number of shuffles of the data (for randomisation of choice situation and data expansion)\n",
    "\n",
    "Additionally, the user can configure the following options:\n",
    "* `seed`: Random seed for shuffling and simulation.\n",
    "\n",
    "The function `ConfigANN` takes the configuration parameters of the ANN and creates an object that is used by the optimisation routine:"
   ]
  },
  {
   "cell_type": "code",
   "execution_count": 8,
   "metadata": {},
   "outputs": [],
   "source": [
    "config = ConfigANN(hiddenLayerNodes=[10, 10], trainingRepeats= 5, shufflesPerRepeat= 50, seed = None)"
   ]
  },
  {
   "cell_type": "markdown",
   "metadata": {},
   "source": [
    "Now, we create the ANN object that contains the configuration parameters and the data arrays:"
   ]
  },
  {
   "cell_type": "code",
   "execution_count": 9,
   "metadata": {},
   "outputs": [],
   "source": [
    "ann = ModelANN(config, model_arrays)"
   ]
  },
  {
   "cell_type": "markdown",
   "metadata": {},
   "source": [
    "The object `ModelANN` contains the following arrays:\n",
    "\n",
    "* `X_train:`  Training (85% of the full sample) input data, i.e., the BVTT of each choice set per respondent, and the randomly-chosen choices of the T-1 choice sets.\n",
    "* `X_test:` Test input data (15% of the full sample)\n",
    "* `X_full:` Full input data\n",
    "* `y_train:` Training output data, i.e., the randomly-chosen T choice per respondent.\n",
    "* `y_test:` Test output data\n",
    "* `y_full:` Full output data"
   ]
  },
  {
   "cell_type": "markdown",
   "metadata": {},
   "source": [
    "## Step 4: Train an ANN\n",
    "\n",
    "Once the ANN is initialised, the `run` method starts the optimisation process:"
   ]
  },
  {
   "cell_type": "code",
   "execution_count": 10,
   "metadata": {},
   "outputs": [
    {
     "name": "stdout",
     "output_type": "stream",
     "text": [
      "Rep 1: CE (train): 0.3682 / CE (test): 0.368 / LL: -107344.51 / Rho-sq: 0.47\n",
      "Rep 2: CE (train): 0.3929 / CE (test): 0.3895 / LL: -114428.1 / Rho-sq: 0.43\n",
      "Rep 3: CE (train): 0.3711 / CE (test): 0.3696 / LL: -108152.96 / Rho-sq: 0.46\n",
      "Rep 4: CE (train): 0.3677 / CE (test): 0.367 / LL: -107193.2 / Rho-sq: 0.47\n",
      "Rep 5: CE (train): 0.369 / CE (test): 0.3676 / LL: -107533.41 / Rho-sq: 0.47\n"
     ]
    }
   ],
   "source": [
    "ll_list, r2_list, vtt_list = ann.run()"
   ]
  },
  {
   "cell_type": "markdown",
   "metadata": {},
   "source": [
    "The training process returns the following information:\n",
    "\n",
    "* `ll_list:` A numpy array with the log-likelihood of each repetition\n",
    "* `r2_list:` A numpy array with the Rho-squared of each repetition\n",
    "* `vtt_list:` A numpy array with the estimated VTT per repetition\n",
    "\n",
    "The following lines present the estimated results:"
   ]
  },
  {
   "cell_type": "code",
   "execution_count": 11,
   "metadata": {},
   "outputs": [
    {
     "name": "stdout",
     "output_type": "stream",
     "text": [
      "Training results:\n",
      "        Log-likelihood  Rho-squared\n",
      "Rep. 1  -107344.507792     0.468912\n",
      "Rep. 2  -114428.099389     0.433865\n",
      "Rep. 3  -108152.961778     0.464912\n",
      "Rep. 4  -107193.204240     0.469660\n",
      "Rep. 5  -107533.409323     0.467977\n"
     ]
    }
   ],
   "source": [
    "import numpy as np\n",
    "\n",
    "# Create dataframe\n",
    "results = pd.DataFrame(np.c_[ll_list,r2_list],columns=['Log-likelihood','Rho-squared'],index=['Rep. ' + str(i+1) for i in range(len(ll_list))])\n",
    "\n",
    "print('Training results:')\n",
    "print(results)"
   ]
  },
  {
   "cell_type": "markdown",
   "metadata": {},
   "source": [
    "## Step 5: Visualising the VTT distribution\n",
    "\n",
    "We create the empirical Cumulative Density Function plot of the VTT distribution. For easy interpretation, we use create a histogram from the CDF. \n",
    "We use matplotlib for this:"
   ]
  },
  {
   "cell_type": "code",
   "execution_count": 12,
   "metadata": {},
   "outputs": [
    {
     "data": {
      "image/png": "[encoded data removed]",
      "text/plain": [
       "<Figure size 1120x480 with 2 Axes>"
      ]
     },
     "metadata": {},
     "output_type": "display_data"
    }
   ],
   "source": [
    "import matplotlib.pyplot as plt\n",
    "import numpy as np\n",
    "from statsmodels.distributions.empirical_distribution import ECDF\n",
    "\n",
    "vtt_mean = vtt_list.mean(axis=0)\n",
    "ecdf = ECDF(vtt_mean)\n",
    "\n",
    "fig, ax = plt.subplots(1,2,figsize=(14,6), dpi=80)\n",
    "\n",
    "# Plot CDF\n",
    "ax[0].plot(ecdf.x,ecdf.y)\n",
    "ax[0].set_xlim(0,80)\n",
    "ax[0].set_ylim(0,1)\n",
    "ax[0].set_xlabel('VTT [euro/hour]')\n",
    "ax[0].set_ylabel('Estimated cumulative probability')\n",
    "\n",
    "# Plot histogram\n",
    "ax[1].set_xlim(0,80)\n",
    "ax[1].set_xlabel('VTT [euro/hour]')\n",
    "ax[1].set_ylabel('Count')\n",
    "ax[1].hist(vtt_mean,bins=20,edgecolor=\"white\")\n",
    "fig.suptitle('ANN')\n",
    "plt.savefig('outcomes/ann.png')\n",
    "plt.show()"
   ]
  }
 ],
 "metadata": {
  "kernelspec": {
   "display_name": "Python 3.9.13 ('py-np4vtt-hHRGgedU-py3.9')",
   "language": "python",
   "name": "python3"
  },
  "language_info": {
   "codemirror_mode": {
    "name": "ipython",
    "version": 3
   },
   "file_extension": ".py",
   "mimetype": "text/x-python",
   "name": "python",
   "nbconvert_exporter": "python",
   "pygments_lexer": "ipython3",
   "version": "3.9.13"
  },
  "orig_nbformat": 4,
  "vscode": {
   "interpreter": {
    "hash": "396d49b5bbf8dc4a1a0a27f3db570c8e244d98c107f5d921d380387979b90aeb"
   }
  }
 },
 "nbformat": 4,
 "nbformat_minor": 2
}
