{
 "cells": [
  {
   "attachments": {},
   "cell_type": "markdown",
   "metadata": {},
   "source": [
    "# Using NP4VTT: Local logit\n",
    "\n",
    "In this notebook, we show how to use a local (weighted) logit to estimate the distribution of the Value of Travel Time (VTT) from the Norway data."
   ]
  },
  {
   "attachments": {},
   "cell_type": "markdown",
   "metadata": {},
   "source": [
    "## Step 1: Load modules and data, and create arrays\n",
    "\n",
    "We first import the NP4VTT modules for creating the arrays, the local logit, and Pandas to load the dataset:"
   ]
  },
  {
   "cell_type": "code",
   "execution_count": 1,
   "metadata": {},
   "outputs": [],
   "source": [
    "import sys\n",
    "sys.path.append('../../src')"
   ]
  },
  {
   "cell_type": "code",
   "execution_count": 2,
   "metadata": {},
   "outputs": [],
   "source": [
    "import pandas as pd\n",
    "import numpy as np\n",
    "from py_np4vtt.data_format import Vars\n",
    "from py_np4vtt.model_loclogit import ModelLocLogit, ConfigLocLogit\n",
    "from py_np4vtt.data_import import make_modelarrays, compute_descriptives"
   ]
  },
  {
   "attachments": {},
   "cell_type": "markdown",
   "metadata": {},
   "source": [
    "Now we read the CSV file:"
   ]
  },
  {
   "cell_type": "code",
   "execution_count": 3,
   "metadata": {},
   "outputs": [
    {
     "data": {
      "text/html": [
       "<div>\n",
       "<style scoped>\n",
       "    .dataframe tbody tr th:only-of-type {\n",
       "        vertical-align: middle;\n",
       "    }\n",
       "\n",
       "    .dataframe tbody tr th {\n",
       "        vertical-align: top;\n",
       "    }\n",
       "\n",
       "    .dataframe thead th {\n",
       "        text-align: right;\n",
       "    }\n",
       "</style>\n",
       "<table border=\"1\" class=\"dataframe\">\n",
       "  <thead>\n",
       "    <tr style=\"text-align: right;\">\n",
       "      <th></th>\n",
       "      <th>RespID</th>\n",
       "      <th>Mode</th>\n",
       "      <th>TravTime</th>\n",
       "      <th>BaseCost</th>\n",
       "      <th>Gender</th>\n",
       "      <th>AgeClass</th>\n",
       "      <th>IncClass</th>\n",
       "      <th>TravTimeClass</th>\n",
       "      <th>Purpose</th>\n",
       "      <th>CardID</th>\n",
       "      <th>...</th>\n",
       "      <th>TimeL</th>\n",
       "      <th>TimeR</th>\n",
       "      <th>Chosen</th>\n",
       "      <th>Quadrant2</th>\n",
       "      <th>Purpose2</th>\n",
       "      <th>Mode2</th>\n",
       "      <th>Income2</th>\n",
       "      <th>ExclGroup</th>\n",
       "      <th>Exclude_CDF</th>\n",
       "      <th>CS</th>\n",
       "    </tr>\n",
       "  </thead>\n",
       "  <tbody>\n",
       "    <tr>\n",
       "      <th>0</th>\n",
       "      <td>88</td>\n",
       "      <td>1</td>\n",
       "      <td>25</td>\n",
       "      <td>27</td>\n",
       "      <td>1</td>\n",
       "      <td>3</td>\n",
       "      <td>5</td>\n",
       "      <td>1</td>\n",
       "      <td>1</td>\n",
       "      <td>1</td>\n",
       "      <td>...</td>\n",
       "      <td>32</td>\n",
       "      <td>25</td>\n",
       "      <td>1</td>\n",
       "      <td>4</td>\n",
       "      <td>1</td>\n",
       "      <td>1</td>\n",
       "      <td>3</td>\n",
       "      <td>4</td>\n",
       "      <td>1</td>\n",
       "      <td>1</td>\n",
       "    </tr>\n",
       "    <tr>\n",
       "      <th>1</th>\n",
       "      <td>88</td>\n",
       "      <td>1</td>\n",
       "      <td>25</td>\n",
       "      <td>27</td>\n",
       "      <td>1</td>\n",
       "      <td>3</td>\n",
       "      <td>5</td>\n",
       "      <td>1</td>\n",
       "      <td>1</td>\n",
       "      <td>2</td>\n",
       "      <td>...</td>\n",
       "      <td>25</td>\n",
       "      <td>28</td>\n",
       "      <td>2</td>\n",
       "      <td>2</td>\n",
       "      <td>1</td>\n",
       "      <td>1</td>\n",
       "      <td>3</td>\n",
       "      <td>4</td>\n",
       "      <td>1</td>\n",
       "      <td>2</td>\n",
       "    </tr>\n",
       "    <tr>\n",
       "      <th>2</th>\n",
       "      <td>88</td>\n",
       "      <td>1</td>\n",
       "      <td>25</td>\n",
       "      <td>27</td>\n",
       "      <td>1</td>\n",
       "      <td>3</td>\n",
       "      <td>5</td>\n",
       "      <td>1</td>\n",
       "      <td>1</td>\n",
       "      <td>3</td>\n",
       "      <td>...</td>\n",
       "      <td>29</td>\n",
       "      <td>25</td>\n",
       "      <td>1</td>\n",
       "      <td>4</td>\n",
       "      <td>1</td>\n",
       "      <td>1</td>\n",
       "      <td>3</td>\n",
       "      <td>4</td>\n",
       "      <td>1</td>\n",
       "      <td>3</td>\n",
       "    </tr>\n",
       "    <tr>\n",
       "      <th>3</th>\n",
       "      <td>88</td>\n",
       "      <td>1</td>\n",
       "      <td>25</td>\n",
       "      <td>27</td>\n",
       "      <td>1</td>\n",
       "      <td>3</td>\n",
       "      <td>5</td>\n",
       "      <td>1</td>\n",
       "      <td>1</td>\n",
       "      <td>4</td>\n",
       "      <td>...</td>\n",
       "      <td>32</td>\n",
       "      <td>25</td>\n",
       "      <td>1</td>\n",
       "      <td>2</td>\n",
       "      <td>1</td>\n",
       "      <td>1</td>\n",
       "      <td>3</td>\n",
       "      <td>4</td>\n",
       "      <td>1</td>\n",
       "      <td>4</td>\n",
       "    </tr>\n",
       "    <tr>\n",
       "      <th>4</th>\n",
       "      <td>88</td>\n",
       "      <td>1</td>\n",
       "      <td>25</td>\n",
       "      <td>27</td>\n",
       "      <td>1</td>\n",
       "      <td>3</td>\n",
       "      <td>5</td>\n",
       "      <td>1</td>\n",
       "      <td>1</td>\n",
       "      <td>5</td>\n",
       "      <td>...</td>\n",
       "      <td>29</td>\n",
       "      <td>32</td>\n",
       "      <td>2</td>\n",
       "      <td>2</td>\n",
       "      <td>1</td>\n",
       "      <td>1</td>\n",
       "      <td>3</td>\n",
       "      <td>4</td>\n",
       "      <td>1</td>\n",
       "      <td>5</td>\n",
       "    </tr>\n",
       "  </tbody>\n",
       "</table>\n",
       "<p>5 rows × 22 columns</p>\n",
       "</div>"
      ],
      "text/plain": [
       "   RespID  Mode  TravTime  BaseCost  Gender  AgeClass  IncClass  \\\n",
       "0      88     1        25        27       1         3         5   \n",
       "1      88     1        25        27       1         3         5   \n",
       "2      88     1        25        27       1         3         5   \n",
       "3      88     1        25        27       1         3         5   \n",
       "4      88     1        25        27       1         3         5   \n",
       "\n",
       "   TravTimeClass  Purpose  CardID  ...  TimeL  TimeR  Chosen  Quadrant2  \\\n",
       "0              1        1       1  ...     32     25       1          4   \n",
       "1              1        1       2  ...     25     28       2          2   \n",
       "2              1        1       3  ...     29     25       1          4   \n",
       "3              1        1       4  ...     32     25       1          2   \n",
       "4              1        1       5  ...     29     32       2          2   \n",
       "\n",
       "   Purpose2  Mode2  Income2  ExclGroup  Exclude_CDF  CS  \n",
       "0         1      1        3          4            1   1  \n",
       "1         1      1        3          4            1   2  \n",
       "2         1      1        3          4            1   3  \n",
       "3         1      1        3          4            1   4  \n",
       "4         1      1        3          4            1   5  \n",
       "\n",
       "[5 rows x 22 columns]"
      ]
     },
     "execution_count": 3,
     "metadata": {},
     "output_type": "execute_result"
    }
   ],
   "source": [
    "df = pd.read_table('../../data/Norway2009VTT_demodata.txt')\n",
    "df.head()"
   ]
  },
  {
   "attachments": {},
   "cell_type": "markdown",
   "metadata": {},
   "source": [
    "The dataset contains 22 variables. Each row is a binary choice task. We will use:\n",
    "\n",
    "* `RespID`: ID of each respondent.\n",
    "* `Chosen`: Chosen alternative.\n",
    "* `CostL`: Travel cost of alternatives 1 [NOK]\n",
    "* `CostR`: Travel cost of alternatives 2 [NOK]\n",
    "* `TimeL`: Travel time of alternatives 1 [minutes]\n",
    "* `TimeR`: Travel time of alternatives 2 [minutes]\n",
    "\n",
    "NP4VTT detects automatically the _slow and cheap_ and _fast and expensive_ alternative, for each choice situation. If NP4VTT finds violations to those two options (e.g., a fast-cheap) alternative, it will raise an error message."
   ]
  },
  {
   "attachments": {},
   "cell_type": "markdown",
   "metadata": {},
   "source": [
    "Change currency of travel time to euros and change unit of travel time to hours"
   ]
  },
  {
   "cell_type": "code",
   "execution_count": 4,
   "metadata": {},
   "outputs": [],
   "source": [
    "# Convert to euros\n",
    "NOK2euro_exchange_rate = 9\n",
    "df[['CostL','CostR']] = df[['CostL','CostR']] .div(NOK2euro_exchange_rate)\n",
    "\n",
    "# convert to hours\n",
    "df[['TimeL','TimeR']] = df[['TimeL','TimeR']] .div(60)"
   ]
  },
  {
   "attachments": {},
   "cell_type": "markdown",
   "metadata": {},
   "source": [
    "Now we create a dictionary to map the required variables for NP4VTT with the variables of the dataset:"
   ]
  },
  {
   "cell_type": "code",
   "execution_count": 5,
   "metadata": {},
   "outputs": [],
   "source": [
    "columnarrays = {\n",
    "    Vars.Id: 'RespID',\n",
    "    Vars.ChosenAlt: 'Chosen',\n",
    "    Vars.Cost1: 'CostL',\n",
    "    Vars.Cost2: 'CostR',\n",
    "    Vars.Time1: 'TimeL',\n",
    "    Vars.Time2: 'TimeR',\n",
    "}"
   ]
  },
  {
   "attachments": {},
   "cell_type": "markdown",
   "metadata": {},
   "source": [
    "And we create the required arrays:"
   ]
  },
  {
   "cell_type": "code",
   "execution_count": 6,
   "metadata": {},
   "outputs": [],
   "source": [
    "model_arrays = make_modelarrays(df, columnarrays)"
   ]
  },
  {
   "attachments": {},
   "cell_type": "markdown",
   "metadata": {},
   "source": [
    "The function `make_modelarrays` creates six elements used by NP4VTT to estimate/train a model:\n",
    "\n",
    "* `BVTT`: Contains the Boundary VTT per choice situation, computed from costs and time.\n",
    "* `Choice`: A matrix of dummy variables that are equal to one if the respondent choose the fast-expensive alternative on each choice situation.\n",
    "* `Accepts`: Number of times a respondent chose the fast-expensive alternative.\n",
    "* `ID`: Unique identifier of each respondent.\n",
    "* `NP`: Number of respondents in the dataset.\n",
    "* `T`: Number of choice situations per respondent."
   ]
  },
  {
   "attachments": {},
   "cell_type": "markdown",
   "metadata": {},
   "source": [
    "## Step 2: Compute descriptives\n",
    "\n",
    "The function `compute_descriptives` provides a small overview of the dataset characteristics:"
   ]
  },
  {
   "cell_type": "code",
   "execution_count": 7,
   "metadata": {},
   "outputs": [
    {
     "name": "stdout",
     "output_type": "stream",
     "text": [
      "Balanced panel: True\n",
      "No. individuals: 5832\n",
      "Sets per indiv.: 9\n",
      "\n",
      "Number of non-traders:\n",
      "Fast-exp. alt.: 144\n",
      "Slow-cheap alt.: 808\n",
      "\n",
      "BVTT statistics:\n",
      "Mean chosen BVTT: 10.2977\n",
      "Minimum of BVTT: 0.6667\n",
      "Maximum of BVTT: 113.5632\n"
     ]
    }
   ],
   "source": [
    "descriptives = compute_descriptives(model_arrays)\n",
    "print(descriptives)"
   ]
  },
  {
   "attachments": {},
   "cell_type": "markdown",
   "metadata": {},
   "source": [
    "## Step 3: Configure the local logit\n",
    "\n",
    "The local logit requires the following parameters from the user:\n",
    "\n",
    "* `minimum`: The minimum of the VTT grid.\n",
    "* `maximum`: The maximum of the VTT grid.\n",
    "* `supportPoints`: The number of support points.\n",
    "\n",
    "Based on the descriptive statistics, we create a VTT grid in the range of 0 (minimum) and 100 (maximum), with 20 support points. Hence, the VTT grid is defined on intervals of 5.\n",
    "\n",
    "The function `ConfigLocLogit` takes the configuration parameters of the local logit and creates an object that is used by the optimisation routine:"
   ]
  },
  {
   "cell_type": "code",
   "execution_count": 8,
   "metadata": {},
   "outputs": [],
   "source": [
    "config = ConfigLocLogit(minimum=0, maximum=100, supportPoints=21)"
   ]
  },
  {
   "attachments": {},
   "cell_type": "markdown",
   "metadata": {},
   "source": [
    "Now, we create the Local logit object that contains the configuration parameters and the data arrays."
   ]
  },
  {
   "cell_type": "code",
   "execution_count": 9,
   "metadata": {},
   "outputs": [
    {
     "name": "stdout",
     "output_type": "stream",
     "text": [
      "Created a VTT grid of 21 points between 0 and 100.\n",
      "Distance between points of the VTT grid is 5.0\n"
     ]
    }
   ],
   "source": [
    "loclogit = ModelLocLogit(config, model_arrays)"
   ]
  },
  {
   "attachments": {},
   "cell_type": "markdown",
   "metadata": {},
   "source": [
    "`ModelLocLogit` creates the following objects that can be accessed using the 'dot' notation (i.e., `ModelLocLogit.`_object_):\n",
    "\n",
    "* `vtt_grid`: VTT grid as specified in `ConfigLocLogit`\n",
    "* `vtt_mid`: VTT mid points, based in the VTT grid. The first point of the grid is zero, whereas the last point is equal to the last point of the original VTT grid."
   ]
  },
  {
   "cell_type": "code",
   "execution_count": 10,
   "metadata": {},
   "outputs": [
    {
     "data": {
      "text/plain": [
       "array([  0.,   5.,  10.,  15.,  20.,  25.,  30.,  35.,  40.,  45.,  50.,\n",
       "        55.,  60.,  65.,  70.,  75.,  80.,  85.,  90.,  95., 100.])"
      ]
     },
     "execution_count": 10,
     "metadata": {},
     "output_type": "execute_result"
    }
   ],
   "source": [
    "vtt_grid = loclogit.vtt_grid\n",
    "vtt_grid"
   ]
  },
  {
   "cell_type": "code",
   "execution_count": 11,
   "metadata": {},
   "outputs": [
    {
     "data": {
      "text/plain": [
       "array([  0. ,   2.5,   7.5,  12.5,  17.5,  22.5,  27.5,  32.5,  37.5,\n",
       "        42.5,  47.5,  52.5,  57.5,  62.5,  67.5,  72.5,  77.5,  82.5,\n",
       "        87.5,  92.5,  97.5, 100. ])"
      ]
     },
     "execution_count": 11,
     "metadata": {},
     "output_type": "execute_result"
    }
   ],
   "source": [
    "vtt_mid = loclogit.vtt_mid\n",
    "vtt_mid"
   ]
  },
  {
   "attachments": {},
   "cell_type": "markdown",
   "metadata": {},
   "source": [
    "## Step 4: Estimate a local logit\n",
    "\n",
    "Once the local logit object is initialised, the `run` method starts the optimisation process:"
   ]
  },
  {
   "cell_type": "code",
   "execution_count": 12,
   "metadata": {},
   "outputs": [
    {
     "name": "stdout",
     "output_type": "stream",
     "text": [
      "Initial F-value: 2509.26\n",
      "Iter No. 1: F-value: 2214.36 / Step size: 0.000244 / G-norm: 5461605.086464\n",
      "Iter No. 2: F-value: 2064.75 / Step size: 0.03125 / G-norm: 25031.431845\n",
      "Iter No. 3: F-value: 1925.19 / Step size: 1 / G-norm: 208.935917\n",
      "Iter No. 4: F-value: 1911.8 / Step size: 1 / G-norm: 41.899218\n",
      "Iter No. 5: F-value: 1908.96 / Step size: 1 / G-norm: 6.424941\n",
      "Iter No. 6: F-value: 1908.93 / Step size: 1 / G-norm: 0.05743\n",
      "Iter No. 7: F-value: 1908.93 / Step size: 1 / G-norm: 0.0001\n",
      "Iter No. 8: F-value: 1908.93 / Step size: 0.5 / G-norm: 1e-06\n",
      "\n",
      "Local minimum found. G-norm below tolerance\n",
      "Initial F-value: 8049.24\n",
      "Iter No. 1: F-value: 7976.2 / Step size: 0.000244 / G-norm: 6803524.667566\n",
      "Iter No. 2: F-value: 7836.71 / Step size: 0.000488 / G-norm: 1010491.705545\n",
      "Iter No. 3: F-value: 7506.18 / Step size: 1 / G-norm: 533.475571\n",
      "Iter No. 4: F-value: 7495.7 / Step size: 1 / G-norm: 26.675676\n",
      "Iter No. 5: F-value: 7495.14 / Step size: 1 / G-norm: 1.175505\n",
      "Iter No. 6: F-value: 7495.14 / Step size: 1 / G-norm: 0.001556\n",
      "Iter No. 7: F-value: 7495.14 / Step size: 1 / G-norm: 3e-06\n",
      "Iter No. 8: F-value: 7495.14 / Step size: 0.5 / G-norm: 0.0\n",
      "\n",
      "Local minimum found. G-norm below tolerance\n",
      "Initial F-value: 6492.47\n",
      "Iter No. 1: F-value: 6345.67 / Step size: 0.000244 / G-norm: 1340743.150435\n",
      "Iter No. 2: F-value: 6260.67 / Step size: 0.000244 / G-norm: 756021.608516\n",
      "Iter No. 3: F-value: 6259.35 / Step size: 1 / G-norm: 2.485407\n",
      "Iter No. 4: F-value: 6259.35 / Step size: 1 / G-norm: 0.013106\n",
      "Iter No. 5: F-value: 6259.35 / Step size: 1 / G-norm: 1e-06\n",
      "\n",
      "Local minimum found. G-norm below tolerance\n",
      "Initial F-value: 3754.84\n",
      "Iter No. 1: F-value: 3178.35 / Step size: 0.000977 / G-norm: 1532519.669061\n",
      "Iter No. 2: F-value: 3177.8 / Step size: 0.000488 / G-norm: 40828.815867\n",
      "Iter No. 3: F-value: 3154.02 / Step size: 1 / G-norm: 40.666841\n",
      "Iter No. 4: F-value: 3153.32 / Step size: 1 / G-norm: 1.475202\n",
      "Iter No. 5: F-value: 3153.32 / Step size: 1 / G-norm: 0.006979\n",
      "Iter No. 6: F-value: 3153.32 / Step size: 1 / G-norm: 7e-06\n",
      "Iter No. 7: F-value: 3153.32 / Step size: 1 / G-norm: 0.0\n",
      "\n",
      "Local minimum found. G-norm below tolerance\n",
      "Initial F-value: 3619.87\n",
      "Iter No. 1: F-value: 3403.95 / Step size: 0.001953 / G-norm: 2553004.190201\n",
      "Iter No. 2: F-value: 3401.23 / Step size: 0.000977 / G-norm: 7055.078769\n",
      "Iter No. 3: F-value: 2709.86 / Step size: 1 / G-norm: 872.457002\n",
      "Iter No. 4: F-value: 2585.71 / Step size: 0.5 / G-norm: 451.961534\n",
      "Iter No. 5: F-value: 2582.41 / Step size: 0.5 / G-norm: 15.698175\n",
      "Iter No. 6: F-value: 2582.29 / Step size: 1 / G-norm: 0.233206\n",
      "Iter No. 7: F-value: 2582.29 / Step size: 1 / G-norm: 0.001211\n",
      "Iter No. 8: F-value: 2582.29 / Step size: 1 / G-norm: 2.6e-05\n",
      "Iter No. 9: F-value: 2582.29 / Step size: 0.0625 / G-norm: 0.0\n",
      "\n",
      "Local minimum found. G-norm below tolerance\n",
      "Initial F-value: 3018.57\n",
      "Iter No. 1: F-value: 2390.75 / Step size: 0.001953 / G-norm: 2113562.247213\n",
      "Iter No. 2: F-value: 2362.24 / Step size: 0.001953 / G-norm: 78138.519569\n",
      "Iter No. 3: F-value: 2053.51 / Step size: 1 / G-norm: 378.983393\n",
      "Iter No. 4: F-value: 2044.03 / Step size: 1 / G-norm: 296.725837\n",
      "Iter No. 5: F-value: 1973.82 / Step size: 1 / G-norm: 211.3572\n",
      "Iter No. 6: F-value: 1970.72 / Step size: 1 / G-norm: 24.438733\n",
      "Iter No. 7: F-value: 1964.69 / Step size: 1 / G-norm: 11.651572\n",
      "Iter No. 8: F-value: 1964.69 / Step size: 1 / G-norm: 0.015981\n",
      "Iter No. 9: F-value: 1964.69 / Step size: 1 / G-norm: 0.000222\n",
      "Iter No. 10: F-value: 1964.69 / Step size: 0.25 / G-norm: 0.0\n",
      "\n",
      "Local minimum found. G-norm below tolerance\n",
      "Initial F-value: 2220.78\n",
      "Iter No. 1: F-value: 1617.51 / Step size: 0.001953 / G-norm: 1365559.550235\n",
      "Iter No. 2: F-value: 1615.19 / Step size: 0.001953 / G-norm: 401950.608171\n",
      "Iter No. 3: F-value: 1406.49 / Step size: 1 / G-norm: 251.105673\n",
      "Iter No. 4: F-value: 1337.05 / Step size: 0.5 / G-norm: 281.638857\n",
      "Iter No. 5: F-value: 1331.54 / Step size: 1 / G-norm: 13.006382\n",
      "Iter No. 6: F-value: 1331.31 / Step size: 1 / G-norm: 0.479929\n",
      "Iter No. 7: F-value: 1331.31 / Step size: 1 / G-norm: 0.005891\n",
      "Iter No. 8: F-value: 1331.31 / Step size: 1 / G-norm: 0.000133\n",
      "Iter No. 9: F-value: 1331.31 / Step size: 1 / G-norm: 0.0\n",
      "\n",
      "Local minimum found. G-norm below tolerance\n",
      "Initial F-value: 1600.2\n",
      "Iter No. 1: F-value: 1117.17 / Step size: 0.003906 / G-norm: 785866.594842\n",
      "Iter No. 2: F-value: 1065.08 / Step size: 0.003906 / G-norm: 37644.951602\n",
      "Iter No. 3: F-value: 932.86 / Step size: 1 / G-norm: 155.054188\n",
      "Iter No. 4: F-value: 848.39 / Step size: 0.5 / G-norm: 331.109017\n",
      "Iter No. 5: F-value: 847.83 / Step size: 1 / G-norm: 7.800001\n",
      "Iter No. 6: F-value: 846.36 / Step size: 1 / G-norm: 3.003834\n",
      "Iter No. 7: F-value: 846.32 / Step size: 1 / G-norm: 0.227543\n",
      "Iter No. 8: F-value: 846.29 / Step size: 1 / G-norm: 0.053289\n",
      "Iter No. 9: F-value: 846.29 / Step size: 1 / G-norm: 6e-06\n",
      "Iter No. 10: F-value: 846.29 / Step size: 1 / G-norm: 0.0\n",
      "\n",
      "Local minimum found. G-norm below tolerance\n",
      "Initial F-value: 1383.3\n",
      "Iter No. 1: F-value: 1210.69 / Step size: 0.007812 / G-norm: 686616.069297\n",
      "Iter No. 2: F-value: 1181.44 / Step size: 0.03125 / G-norm: 3183.436403\n",
      "Iter No. 3: F-value: 980.55 / Step size: 1 / G-norm: 214.331935\n",
      "Iter No. 4: F-value: 603.1 / Step size: 0.125 / G-norm: 4139.502195\n",
      "Iter No. 5: F-value: 603.02 / Step size: 0.5 / G-norm: 2.17756\n",
      "Iter No. 6: F-value: 602.95 / Step size: 1 / G-norm: 0.544529\n",
      "Iter No. 7: F-value: 602.87 / Step size: 1 / G-norm: 0.465155\n",
      "Iter No. 8: F-value: 602.79 / Step size: 1 / G-norm: 0.172315\n",
      "Iter No. 9: F-value: 602.79 / Step size: 1 / G-norm: 0.003736\n",
      "Iter No. 10: F-value: 602.79 / Step size: 1 / G-norm: 7.7e-05\n",
      "Iter No. 11: F-value: 602.79 / Step size: 1 / G-norm: 0.0\n",
      "\n",
      "Local minimum found. G-norm below tolerance\n",
      "Initial F-value: 1068.62\n",
      "Iter No. 1: F-value: 688.06 / Step size: 0.007812 / G-norm: 402696.392149\n",
      "Iter No. 2: F-value: 682.8 / Step size: 0.0625 / G-norm: 150.057615\n",
      "Iter No. 3: F-value: 461.44 / Step size: 1 / G-norm: 311.87058\n",
      "Iter No. 4: F-value: 461.3 / Step size: 0.25 / G-norm: 3.563871\n",
      "Iter No. 5: F-value: 461.17 / Step size: 0.5 / G-norm: 1.237178\n",
      "Iter No. 6: F-value: 461.04 / Step size: 1 / G-norm: 0.307276\n",
      "Iter No. 7: F-value: 461.04 / Step size: 1 / G-norm: 0.007174\n",
      "Iter No. 8: F-value: 461.04 / Step size: 1 / G-norm: 2.9e-05\n",
      "Iter No. 9: F-value: 461.04 / Step size: 1 / G-norm: 0.0\n",
      "\n",
      "Local minimum found. G-norm below tolerance\n",
      "Initial F-value: 859.91\n",
      "Iter No. 1: F-value: 548.75 / Step size: 0.007812 / G-norm: 300589.16682\n",
      "Iter No. 2: F-value: 497.58 / Step size: 0.007812 / G-norm: 60156.351375\n",
      "Iter No. 3: F-value: 438.75 / Step size: 1 / G-norm: 61.205658\n",
      "Iter No. 4: F-value: 330.88 / Step size: 0.25 / G-norm: 664.730958\n",
      "Iter No. 5: F-value: 330.27 / Step size: 1 / G-norm: 3.659209\n",
      "Iter No. 6: F-value: 329.91 / Step size: 1 / G-norm: 1.157956\n",
      "Iter No. 7: F-value: 329.82 / Step size: 1 / G-norm: 0.411073\n",
      "Iter No. 8: F-value: 329.77 / Step size: 1 / G-norm: 0.115353\n",
      "Iter No. 9: F-value: 329.77 / Step size: 1 / G-norm: 0.000407\n",
      "Iter No. 10: F-value: 329.77 / Step size: 1 / G-norm: 2e-06\n",
      "Iter No. 11: F-value: 329.77 / Step size: 1 / G-norm: 0.0\n",
      "\n",
      "Local minimum found. G-norm below tolerance\n",
      "Initial F-value: 538.13\n",
      "Iter No. 1: F-value: 386.53 / Step size: 0.007812 / G-norm: 143247.748009\n",
      "Iter No. 2: F-value: 307.47 / Step size: 0.015625 / G-norm: 53613.186473\n",
      "Iter No. 3: F-value: 272.81 / Step size: 1 / G-norm: 35.486055\n",
      "Iter No. 4: F-value: 249.32 / Step size: 0.25 / G-norm: 666.579574\n",
      "Iter No. 5: F-value: 229.35 / Step size: 1 / G-norm: 316.194824\n",
      "Iter No. 6: F-value: 208.0 / Step size: 1 / G-norm: 24.048975\n",
      "Iter No. 7: F-value: 193.93 / Step size: 0.5 / G-norm: 61.178244\n",
      "Iter No. 8: F-value: 193.15 / Step size: 1 / G-norm: 3.387743\n",
      "Iter No. 9: F-value: 192.81 / Step size: 1 / G-norm: 0.580957\n",
      "Iter No. 10: F-value: 192.8 / Step size: 1 / G-norm: 0.014877\n",
      "Iter No. 11: F-value: 192.8 / Step size: 1 / G-norm: 0.000147\n",
      "Iter No. 12: F-value: 192.8 / Step size: 1 / G-norm: 3e-06\n",
      "Iter No. 13: F-value: 192.8 / Step size: 1 / G-norm: 0.0\n",
      "\n",
      "Local minimum found. G-norm below tolerance\n",
      "Initial F-value: 325.19\n",
      "Iter No. 1: F-value: 309.25 / Step size: 0.03125 / G-norm: 44376.369368\n",
      "Iter No. 2: F-value: 305.26 / Step size: 0.03125 / G-norm: 8955.047092\n",
      "Iter No. 3: F-value: 256.46 / Step size: 1 / G-norm: 48.96408\n",
      "Iter No. 4: F-value: 162.75 / Step size: 0.03125 / G-norm: 5707.185953\n",
      "Iter No. 5: F-value: 153.03 / Step size: 1 / G-norm: 176.177554\n",
      "Iter No. 6: F-value: 143.21 / Step size: 1 / G-norm: 24.981109\n",
      "Iter No. 7: F-value: 141.0 / Step size: 1 / G-norm: 44.578701\n",
      "Iter No. 8: F-value: 130.95 / Step size: 1 / G-norm: 46.78201\n",
      "Iter No. 9: F-value: 128.09 / Step size: 1 / G-norm: 4.204322\n",
      "Iter No. 10: F-value: 127.74 / Step size: 1 / G-norm: 0.826354\n",
      "Iter No. 11: F-value: 127.72 / Step size: 1 / G-norm: 0.036927\n",
      "Iter No. 12: F-value: 127.72 / Step size: 1 / G-norm: 0.000361\n",
      "Iter No. 13: F-value: 127.72 / Step size: 1 / G-norm: 2e-06\n",
      "Iter No. 14: F-value: 127.72 / Step size: 1 / G-norm: 0.0\n",
      "\n",
      "Local minimum found. G-norm below tolerance\n",
      "Initial F-value: 218.09\n",
      "Iter No. 1: F-value: 204.59 / Step size: 0.0625 / G-norm: 17863.669777\n",
      "Iter No. 2: F-value: 189.99 / Step size: 1 / G-norm: 38.186654\n",
      "Iter No. 3: F-value: 183.87 / Step size: 1 / G-norm: 211.646849\n",
      "Iter No. 4: F-value: 157.69 / Step size: 1 / G-norm: 452.5381\n",
      "Iter No. 5: F-value: 145.64 / Step size: 1 / G-norm: 52.469417\n",
      "Iter No. 6: F-value: 96.23 / Step size: 1 / G-norm: 79.096824\n",
      "Iter No. 7: F-value: 90.71 / Step size: 0.5 / G-norm: 53.865076\n",
      "Iter No. 8: F-value: 87.12 / Step size: 1 / G-norm: 21.469933\n",
      "Iter No. 9: F-value: 85.42 / Step size: 1 / G-norm: 2.364413\n",
      "Iter No. 10: F-value: 85.19 / Step size: 1 / G-norm: 0.637257\n",
      "Iter No. 11: F-value: 85.16 / Step size: 1 / G-norm: 0.057453\n",
      "Iter No. 12: F-value: 85.16 / Step size: 1 / G-norm: 0.000678\n",
      "Iter No. 13: F-value: 85.16 / Step size: 1 / G-norm: 8.9e-05\n",
      "Iter No. 14: F-value: 85.16 / Step size: 1 / G-norm: 3e-06\n",
      "Iter No. 15: F-value: 85.16 / Step size: 1 / G-norm: 0.0\n",
      "\n",
      "Local minimum found. G-norm below tolerance\n",
      "Initial F-value: 173.02\n",
      "Iter No. 1: F-value: 128.89 / Step size: 0.0625 / G-norm: 11415.440612\n",
      "Iter No. 2: F-value: 127.31 / Step size: 0.5 / G-norm: 38.530591\n",
      "Iter No. 3: F-value: 102.06 / Step size: 1 / G-norm: 82.321744\n",
      "Iter No. 4: F-value: 88.51 / Step size: 1 / G-norm: 21.049846\n",
      "Iter No. 5: F-value: 70.12 / Step size: 0.25 / G-norm: 97.893652\n",
      "Iter No. 6: F-value: 69.06 / Step size: 1 / G-norm: 11.538914\n",
      "Iter No. 7: F-value: 67.7 / Step size: 1 / G-norm: 8.687891\n",
      "Iter No. 8: F-value: 66.5 / Step size: 1 / G-norm: 2.075035\n",
      "Iter No. 9: F-value: 66.45 / Step size: 1 / G-norm: 0.098122\n",
      "Iter No. 10: F-value: 66.45 / Step size: 1 / G-norm: 0.001225\n",
      "Iter No. 11: F-value: 66.45 / Step size: 1 / G-norm: 1e-05\n",
      "Iter No. 12: F-value: 66.45 / Step size: 1 / G-norm: 0.0\n",
      "\n",
      "Local minimum found. G-norm below tolerance\n",
      "Initial F-value: 134.29\n",
      "Iter No. 1: F-value: 97.89 / Step size: 0.0625 / G-norm: 8147.628673\n",
      "Iter No. 2: F-value: 74.51 / Step size: 0.0625 / G-norm: 2166.70942\n",
      "Iter No. 3: F-value: 65.56 / Step size: 1 / G-norm: 9.273584\n",
      "Iter No. 4: F-value: 58.01 / Step size: 0.25 / G-norm: 92.265744\n",
      "Iter No. 5: F-value: 47.84 / Step size: 1 / G-norm: 21.074328\n",
      "Iter No. 6: F-value: 40.96 / Step size: 1 / G-norm: 11.509338\n",
      "Iter No. 7: F-value: 40.95 / Step size: 1 / G-norm: 0.661302\n",
      "Iter No. 8: F-value: 40.77 / Step size: 1 / G-norm: 0.301204\n",
      "Iter No. 9: F-value: 40.76 / Step size: 1 / G-norm: 0.011582\n",
      "Iter No. 10: F-value: 40.76 / Step size: 1 / G-norm: 0.00022\n",
      "Iter No. 11: F-value: 40.76 / Step size: 1 / G-norm: 2e-06\n",
      "Iter No. 12: F-value: 40.76 / Step size: 1 / G-norm: 0.0\n",
      "\n",
      "Local minimum found. G-norm below tolerance\n",
      "Initial F-value: 119.82\n",
      "Iter No. 1: F-value: 72.57 / Step size: 0.125 / G-norm: 6367.042892\n",
      "Iter No. 2: F-value: 71.53 / Step size: 0.25 / G-norm: 13.492576\n",
      "Iter No. 3: F-value: 62.28 / Step size: 1 / G-norm: 10.156827\n",
      "Iter No. 4: F-value: 36.67 / Step size: 0.25 / G-norm: 110.806651\n",
      "Iter No. 5: F-value: 33.22 / Step size: 0.125 / G-norm: 63.396811\n",
      "Iter No. 6: F-value: 32.14 / Step size: 1 / G-norm: 3.65789\n",
      "Iter No. 7: F-value: 31.71 / Step size: 1 / G-norm: 0.694333\n",
      "Iter No. 8: F-value: 31.68 / Step size: 1 / G-norm: 0.059356\n",
      "Iter No. 9: F-value: 31.68 / Step size: 1 / G-norm: 0.001092\n",
      "Iter No. 10: F-value: 31.68 / Step size: 1 / G-norm: 1e-06\n",
      "\n",
      "Local minimum found. G-norm below tolerance\n",
      "Initial F-value: 74.61\n",
      "Iter No. 1: F-value: 64.55 / Step size: 0.25 / G-norm: 2352.347615\n",
      "Iter No. 2: F-value: 58.16 / Step size: 1 / G-norm: 6.390772\n",
      "Iter No. 3: F-value: 51.82 / Step size: 0.001953 / G-norm: 25389.546368\n",
      "Iter No. 4: F-value: 41.05 / Step size: 0.0625 / G-norm: 311.346266\n",
      "Iter No. 5: F-value: 40.68 / Step size: 0.25 / G-norm: 660.751333\n",
      "Iter No. 6: F-value: 34.41 / Step size: 1 / G-norm: 6.324463\n",
      "Iter No. 7: F-value: 21.46 / Step size: 0.0625 / G-norm: 262.460325\n",
      "Iter No. 8: F-value: 21.39 / Step size: 0.5 / G-norm: 1.226391\n",
      "Iter No. 9: F-value: 21.22 / Step size: 1 / G-norm: 0.332597\n",
      "Iter No. 10: F-value: 21.2 / Step size: 1 / G-norm: 0.030408\n",
      "Iter No. 11: F-value: 21.19 / Step size: 1 / G-norm: 0.018912\n",
      "Iter No. 12: F-value: 21.19 / Step size: 1 / G-norm: 5.3e-05\n",
      "Iter No. 13: F-value: 21.19 / Step size: 1 / G-norm: 0.0\n",
      "\n",
      "Local minimum found. G-norm below tolerance\n",
      "Initial F-value: 72.19\n",
      "Iter No. 1: F-value: 54.6 / Step size: 0.125 / G-norm: 2078.541314\n",
      "Iter No. 2: F-value: 50.73 / Step size: 0.0625 / G-norm: 306.57902\n",
      "Iter No. 3: F-value: 43.65 / Step size: 1 / G-norm: 7.205441\n",
      "Iter No. 4: F-value: 28.53 / Step size: 0.125 / G-norm: 167.344288\n",
      "Iter No. 5: F-value: 28.52 / Step size: 0.5 / G-norm: 0.055347\n",
      "Iter No. 6: F-value: 28.52 / Step size: 1 / G-norm: 0.007098\n",
      "Iter No. 7: F-value: 28.52 / Step size: 1 / G-norm: 8.5e-05\n",
      "Iter No. 8: F-value: 28.52 / Step size: 1 / G-norm: 5e-06\n",
      "Iter No. 9: F-value: 28.52 / Step size: 1 / G-norm: 0.0\n",
      "\n",
      "Local minimum found. G-norm below tolerance\n",
      "Initial F-value: 59.06\n",
      "Iter No. 1: F-value: 45.71 / Step size: 0.25 / G-norm: 1444.85598\n",
      "Iter No. 2: F-value: 38.06 / Step size: 1 / G-norm: 7.790645\n",
      "Iter No. 3: F-value: 37.85 / Step size: 0.0625 / G-norm: 82.741103\n",
      "Iter No. 4: F-value: 28.49 / Step size: 1 / G-norm: 15.496632\n",
      "Iter No. 5: F-value: 20.27 / Step size: 0.5 / G-norm: 18.535817\n",
      "Iter No. 6: F-value: 19.57 / Step size: 0.25 / G-norm: 8.028472\n",
      "Iter No. 7: F-value: 18.21 / Step size: 1 / G-norm: 2.204425\n",
      "Iter No. 8: F-value: 18.13 / Step size: 1 / G-norm: 0.50843\n",
      "Iter No. 9: F-value: 18.05 / Step size: 1 / G-norm: 0.196245\n",
      "Iter No. 10: F-value: 18.05 / Step size: 1 / G-norm: 0.003608\n",
      "Iter No. 11: F-value: 18.05 / Step size: 1 / G-norm: 5e-05\n",
      "Iter No. 12: F-value: 18.05 / Step size: 1 / G-norm: 0.0\n",
      "\n",
      "Local minimum found. G-norm below tolerance\n"
     ]
    }
   ],
   "source": [
    "p, vtt, ll, est_time = loclogit.run()"
   ]
  },
  {
   "attachments": {},
   "cell_type": "markdown",
   "metadata": {},
   "source": [
    "The estimated model returns the following information:\n",
    "\n",
    "* `p:` The estimates of the cumulative probability function (CDF) evaluated at each interval of the VTT grid. The first point is always zero while the last point is always equal to the second last for compatibility with plots.\n",
    "* `vtt`: The estimated VTT for each respondent, based in the estimated probabilities and the VTT grid.\n",
    "* `ll:` Value of the likelihood function in the optimum.\n",
    "* `est_time`: The estimation time in seconds.\n",
    "\n",
    "The following lines present the estimated results:"
   ]
  },
  {
   "cell_type": "code",
   "execution_count": 13,
   "metadata": {},
   "outputs": [
    {
     "name": "stdout",
     "output_type": "stream",
     "text": [
      "Estimation results:\n",
      "\n",
      "Estimation time: 0.8044 seconds.\n",
      "Final log-likelihood: -27547.25\n",
      "\n",
      "Estimated Cumulative probability:\n",
      "               VTT   Prob.\n",
      "0      (0.0 - 5.0)  0.0766\n",
      "1     (5.0 - 10.0)  0.3833\n",
      "2    (10.0 - 15.0)  0.6066\n",
      "3    (15.0 - 20.0)  0.7338\n",
      "4    (20.0 - 25.0)  0.8041\n",
      "5    (25.0 - 30.0)  0.8343\n",
      "6    (30.0 - 35.0)  0.8555\n",
      "7    (35.0 - 40.0)  0.8819\n",
      "8    (40.0 - 45.0)  0.9106\n",
      "9    (45.0 - 50.0)  0.9115\n",
      "10   (50.0 - 55.0)  0.9261\n",
      "11   (55.0 - 60.0)  0.9334\n",
      "12   (60.0 - 65.0)  0.9216\n",
      "13   (65.0 - 70.0)  0.9235\n",
      "14   (70.0 - 75.0)  0.9254\n",
      "15   (75.0 - 80.0)  0.9509\n",
      "16   (80.0 - 85.0)  0.9553\n",
      "17   (85.0 - 90.0)  0.9506\n",
      "18   (90.0 - 95.0)  0.9215\n",
      "19  (95.0 - 100.0)  0.9464\n"
     ]
    }
   ],
   "source": [
    "# Create dataframe\n",
    "grid_range = ['(' + str(vtt_grid[i]) + ' - ' + str(vtt_grid[i+1]) + ')' for i in range(vtt_grid.shape[0]-1)]\n",
    "results = pd.DataFrame(np.c_[grid_range,np.round(p[1:-1],4)],columns=['VTT','Prob.'],index=np.arange(len(vtt_grid[1:])))\n",
    "\n",
    "# Print outputs\n",
    "print('Estimation results:\\n')\n",
    "print('Estimation time: ' + str(round(est_time,4)) + ' seconds.')\n",
    "print('Final log-likelihood: ' + str(round(ll,2)))\n",
    "print('\\nEstimated Cumulative probability:')\n",
    "print(results)"
   ]
  },
  {
   "attachments": {},
   "cell_type": "markdown",
   "metadata": {},
   "source": [
    "## Step 5: Visualising the VTT distribution\n",
    "\n",
    "We create the empirical Cumulative Density Function plot of the VTT distribution. For easy interpretation, we create a histogram from the CDF. \n",
    "We use matplotlib for this:"
   ]
  },
  {
   "cell_type": "code",
   "execution_count": 14,
   "metadata": {},
   "outputs": [
    {
     "data": {
      "image/png": "[encoded data removed]",
      "text/plain": [
       "<Figure size 1120x480 with 2 Axes>"
      ]
     },
     "metadata": {},
     "output_type": "display_data"
    }
   ],
   "source": [
    "import matplotlib.pyplot as plt\n",
    "import numpy as np\n",
    "\n",
    "fig, ax = plt.subplots(1,2,figsize=(14,6), dpi=80)\n",
    "\n",
    "# Plot CDF\n",
    "ax[0].plot(vtt_mid,p,marker='o')\n",
    "ax[0].set_xlim(0,80)\n",
    "ax[0].set_ylim(0,1)\n",
    "ax[0].set_xlabel('VTT [euro/hour]')\n",
    "ax[0].set_ylabel('Estimated cumulative probability')\n",
    "\n",
    "# Plot histogram\n",
    "ax[1].set_xlim(0,80)\n",
    "ax[1].set_xlabel('VTT [euro/hour]')\n",
    "ax[1].set_ylabel('Count')\n",
    "ax[1].hist(vtt, bins = vtt_grid,edgecolor=\"white\")\n",
    "fig.suptitle('Local logit')\n",
    "plt.savefig('outcomes/loclogit.png')\n",
    "plt.show()"
   ]
  }
 ],
 "metadata": {
  "kernelspec": {
   "display_name": "Python 3.9.15 ('py-np4vtt-mBO9B2gJ-py3.9')",
   "language": "python",
   "name": "python3"
  },
  "language_info": {
   "codemirror_mode": {
    "name": "ipython",
    "version": 3
   },
   "file_extension": ".py",
   "mimetype": "text/x-python",
   "name": "python",
   "nbconvert_exporter": "python",
   "pygments_lexer": "ipython3",
   "version": "3.9.13"
  },
  "orig_nbformat": 4,
  "vscode": {
   "interpreter": {
    "hash": "90a00f98a139d1526ae6fe98b400e700e7f03050a36cb84ce8f70e10102e153d"
   }
  }
 },
 "nbformat": 4,
 "nbformat_minor": 2
}
